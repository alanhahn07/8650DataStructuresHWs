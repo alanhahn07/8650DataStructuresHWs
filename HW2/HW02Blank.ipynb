{
 "cells": [
  {
   "cell_type": "markdown",
   "metadata": {},
   "source": [
    "# Homework 02\n",
    "\n",
    "Please fill in: YOUR_NAME_HERE"
   ]
  },
  {
   "cell_type": "markdown",
   "metadata": {},
   "source": [
    "The goal of this homework is to understand iterative and recursive algorithms and complexity. We will use the well known Fibonacci sequence as an example. It is defined as:\n",
    "\n",
    "  $$ P_n = \\begin{cases} 0 & n=0 \\\\ 1 & n=1 \\\\ P_{n-2} + P_{n-1} & \\text{otherwise} \\end{cases} $$"
   ]
  },
  {
   "cell_type": "markdown",
   "metadata": {},
   "source": [
    "## Question 1\n",
    "\n",
    "Write fib_recursive(n) that returns the n-th Fibonacci number as a recursive function using the definition above."
   ]
  },
  {
   "cell_type": "code",
   "execution_count": null,
   "metadata": {},
   "outputs": [],
   "source": [
    "def fib_recursive(n):\n",
    "    return 1  # replace this\n",
    "\n",
    "print ([fib_recursive(n) for n in range(0,20)])"
   ]
  },
  {
   "cell_type": "markdown",
   "metadata": {},
   "source": [
    "### Question 2\n",
    "Write a function fib_recursive_cost(n) that returns the total number of function calls fib_recursive() will make for a given n (it should be 1 for n=1 and 3 for n=2). What sequence is that? What is the complexity of pell_recursive(n)?"
   ]
  },
  {
   "cell_type": "code",
   "execution_count": null,
   "metadata": {},
   "outputs": [],
   "source": [
    "def fib_recursive_cost(n):\n",
    "    return 1   # replace this\n",
    "\n",
    "print ([fib_recursive_cost(n) for n in range(0,20)])\n",
    "\n",
    "# this sequence is known as _______ \n",
    "# complexity is ______  "
   ]
  },
  {
   "cell_type": "markdown",
   "metadata": {},
   "source": [
    "## Question 3\n",
    "Write a function fib_iterative(n) that returns the n-th Fibonacci number using an iterative approach (that does not recompute P_2 more than once when computing P_5 for example). Your function should use O(1) memory, i.e., don't create a list of intermediate results. Check your result."
   ]
  },
  {
   "cell_type": "code",
   "execution_count": null,
   "metadata": {},
   "outputs": [],
   "source": [
    "def fib_iterative(n):\n",
    "    return 1    # replace this\n",
    "   \n",
    "print ([fib_iterative(n) for n in range(0,20)])"
   ]
  },
  {
   "cell_type": "markdown",
   "metadata": {},
   "source": [
    "## Question 4\n",
    "Write a function fib_iterative_cost(n) that returns the number of additions done to compute fib_iterative(n). What is the complexity of fib_iterative(n)?"
   ]
  },
  {
   "cell_type": "code",
   "execution_count": null,
   "metadata": {},
   "outputs": [],
   "source": [
    "def fib_iterative_cost(n):\n",
    "    return 1 # replace this\n",
    "\n",
    "print ([fib_iterative_cost(n) for n in range(0,20)])\n",
    "\n",
    "# complexity is: ________"
   ]
  },
  {
   "cell_type": "markdown",
   "metadata": {},
   "source": [
    "## Question 5\n",
    "Write a function fib_recursive_linear(n) that implements the linear recursive Fibonacci number function described in the PowerPoint slides."
   ]
  },
  {
   "cell_type": "code",
   "execution_count": null,
   "metadata": {},
   "outputs": [],
   "source": [
    "def fib_recursive_linear(n):\n",
    "    return 1 # replace this\n",
    "\n",
    "print ([fib_recursive_linear(n) for n in range (0,20) ])"
   ]
  },
  {
   "cell_type": "markdown",
   "metadata": {},
   "source": [
    "## Question 6\n",
    "Write a function fib_recursive_linear_cost(n) that counts the number of additions incurred by a call to fib_recursive_linear(n)."
   ]
  },
  {
   "cell_type": "code",
   "execution_count": null,
   "metadata": {},
   "outputs": [],
   "source": [
    "def fib_recursive_linear_cost(n):\n",
    "    return 1 # replace this\n",
    "\n",
    "print ([fib_recursive_linear_cost(n) for n in range (0,20) ])"
   ]
  },
  {
   "cell_type": "markdown",
   "metadata": {},
   "source": [
    "## Question 7\n",
    "Write a function fib_recursive_fast(n) that implements the recurrence described in the note accompanying this assignment. "
   ]
  },
  {
   "cell_type": "code",
   "execution_count": null,
   "metadata": {},
   "outputs": [],
   "source": [
    "def fib_recursive_fast(n):\n",
    "    return 1 # replace this\n",
    "\n",
    "print ([fib_recursive_fast(n) for n in range (0,20) ])"
   ]
  },
  {
   "cell_type": "markdown",
   "metadata": {},
   "source": [
    "## Question 8\n",
    "Write a function fib_recursive_fast_cost(n) that counts the additions in fib_recirsive_fast(n). "
   ]
  },
  {
   "cell_type": "code",
   "execution_count": null,
   "metadata": {},
   "outputs": [],
   "source": [
    "def fib_recursive_fast_cost(n):\n",
    "    return 1 # replace this\n",
    "\n",
    "print ([fib_recursive_fast_cost(n) for n in range (0,20) ])"
   ]
  },
  {
   "cell_type": "markdown",
   "metadata": {},
   "source": [
    "## Question 9\n",
    "Observe the time it takes to compute $F_{10}, F_{20}, F_{30}$. (There is nothing for you to do here except running the following block)"
   ]
  },
  {
   "cell_type": "code",
   "execution_count": null,
   "metadata": {},
   "outputs": [],
   "source": [
    "for n in [10,20,30]:\n",
    "    print (\"for n =\",n)\n",
    "    %timeit fib_recursive(n)\n",
    "    %timeit fib_iterative(n)\n",
    "    %timeit fib_recursive_linear(n)\n",
    "    %timeit fib_recursive_fast(n)"
   ]
  },
  {
   "cell_type": "markdown",
   "metadata": {},
   "source": [
    "## Question 10\n",
    "\n",
    "Look up Fibonacci numbers in Wikipedia and implement a function fib_direct(n) that computes $F_n$ directly. (Your function should return an integer.) Find the smallest value for which the direct formula gives an incorrect result. Explain what went wrong."
   ]
  },
  {
   "cell_type": "code",
   "execution_count": null,
   "metadata": {},
   "outputs": [],
   "source": [
    "def fib_direct(n):\n",
    "    return 1   #replace this\n",
    "\n",
    "print ([fib_direct(n) for n in range(0,20)])"
   ]
  },
  {
   "cell_type": "code",
   "execution_count": null,
   "metadata": {},
   "outputs": [],
   "source": [
    "# Compare fib_direct() and fib_recursive_fast() and find where they differ\n",
    "\n",
    "# That n = ______\n",
    "\n",
    "# Explain\n",
    "# __________"
   ]
  },
  {
   "cell_type": "markdown",
   "metadata": {},
   "source": [
    "## Question 11\n",
    "Finish the implementation of binary search."
   ]
  },
  {
   "cell_type": "code",
   "execution_count": null,
   "metadata": {},
   "outputs": [],
   "source": [
    "def binary_search(arr, x, imin, imax):\n",
    "    if imin>imax:\n",
    "        return -1\n",
    "\n",
    "    m = (imin+imax)//2\n",
    "    \n",
    "    # ....\n",
    "    return 1 # replace this\n",
    "\n",
    "def find(arr, x):\n",
    "    \"\"\" return index i so that arr[i]==x or -1 if x is not in arr[imin:imax]\"\"\"\n",
    "    return binary_search(arr,x,0,len(arr)-1)\n"
   ]
  },
  {
   "cell_type": "code",
   "execution_count": null,
   "metadata": {},
   "outputs": [],
   "source": [
    "# checks, make sure they all return true\n",
    "print (3==find([1,3,7,8,11,17],8))\n",
    "print (0==find([1,3,7,8,11],1))\n",
    "print (0==find([1],1))\n",
    "\n",
    "print (-1==find([1,3,7,8,11],4))\n",
    "print (-1==find([],1))\n",
    "print (-1==find([3],1))"
   ]
  },
  {
   "cell_type": "code",
   "execution_count": null,
   "metadata": {},
   "outputs": [],
   "source": [
    "# Why does the algorithm not find the solution in the following example?\n",
    "print (find([4,5,3],3)"
   ]
  },
  {
   "cell_type": "code",
   "execution_count": null,
   "metadata": {},
   "outputs": [],
   "source": [
    "# Your answer here:\n",
    "# ___________"
   ]
  }
 ],
 "metadata": {
  "kernelspec": {
   "display_name": "Python 2",
   "language": "python",
   "name": "python2"
  },
  "language_info": {
   "codemirror_mode": {
    "name": "ipython",
    "version": 2
   },
   "file_extension": ".py",
   "mimetype": "text/x-python",
   "name": "python",
   "nbconvert_exporter": "python",
   "pygments_lexer": "ipython2",
   "version": "2.7.15"
  }
 },
 "nbformat": 4,
 "nbformat_minor": 1
}
