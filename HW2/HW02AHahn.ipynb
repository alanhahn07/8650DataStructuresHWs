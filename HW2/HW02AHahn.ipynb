{
 "cells": [
  {
   "cell_type": "markdown",
   "metadata": {},
   "source": [
    "# Homework 02\n",
    "\n",
    "Please fill in: Alan Hahn"
   ]
  },
  {
   "cell_type": "markdown",
   "metadata": {},
   "source": [
    "The goal of this homework is to understand iterative and recursive algorithms and complexity. We will use the well known Fibonacci sequence as an example. It is defined as:\n",
    "\n",
    "  $$ P_n = \\begin{cases} 0 & n=0 \\\\ 1 & n=1 \\\\ P_{n-2} + P_{n-1} & \\text{otherwise} \\end{cases} $$"
   ]
  },
  {
   "cell_type": "markdown",
   "metadata": {},
   "source": [
    "## Question 1\n",
    "\n",
    "Write fib_recursive(n) that returns the n-th Fibonacci number as a recursive function using the definition above."
   ]
  },
  {
   "cell_type": "code",
   "execution_count": 19,
   "metadata": {},
   "outputs": [
    {
     "name": "stdout",
     "output_type": "stream",
     "text": [
      "[0, 1, 1, 2, 3, 5, 8, 13, 21, 34, 55, 89, 144, 233, 377, 610, 987, 1597, 2584, 4181]\n"
     ]
    }
   ],
   "source": [
    "def fib_recursive(n):\n",
    "    if n == 1:\n",
    "        return(1)\n",
    "    elif n == 0:\n",
    "        return(0)\n",
    "    else:\n",
    "        return(fib_recursive(n-1)+fib_recursive(n-2))  \n",
    "\n",
    "print ([fib_recursive(n) for n in range(0,20)])"
   ]
  },
  {
   "cell_type": "markdown",
   "metadata": {},
   "source": [
    "### Question 2\n",
    "Write a function fib_recursive_cost(n) that returns the total number of function calls fib_recursive() will make for a given n (it should be 1 for n=1 and 3 for n=2). What sequence is that? What is the complexity of pell_recursive(n)?"
   ]
  },
  {
   "cell_type": "code",
   "execution_count": 20,
   "metadata": {},
   "outputs": [
    {
     "name": "stdout",
     "output_type": "stream",
     "text": [
      "[1, 1, 3, 5, 9, 15, 25, 41, 67, 109, 177, 287, 465, 753, 1219, 1973, 3193, 5167, 8361, 13529]\n"
     ]
    }
   ],
   "source": [
    "\n",
    "def fib_recursive_cost(n):\n",
    "    if n == 1:              #mirror the program behavior of fib_recursive to count  \n",
    "        return(1)           #the number of function calls in fib_recursive\n",
    "    if n == 0:\n",
    "        return(1)\n",
    "    else: \n",
    "        return(fib_recursive_cost(n-1)+fib_recursive_cost(n-2)+1)\n",
    "\n",
    "print ([fib_recursive_cost(n) for n in range(0,20)])\n",
    "\n",
    "# this sequence is known as a_n = a_(n-1) + a_(n-2) + 1 with a_0 = a_1 = 1 \n",
    "# complexity is __O(2^(n/2))____  "
   ]
  },
  {
   "cell_type": "markdown",
   "metadata": {},
   "source": [
    "## Question 3\n",
    "Write a function fib_iterative(n) that returns the n-th Fibonacci number using an iterative approach (that does not recompute P_2 more than once when computing P_5 for example). Your function should use O(1) memory, i.e., don't create a list of intermediate results. Check your result."
   ]
  },
  {
   "cell_type": "code",
   "execution_count": 21,
   "metadata": {},
   "outputs": [
    {
     "name": "stdout",
     "output_type": "stream",
     "text": [
      "[0, 1, 1, 2, 3, 5, 8, 13, 21, 34, 55, 89, 144, 233, 377, 610, 987, 1597, 2584, 4181]\n"
     ]
    }
   ],
   "source": [
    "def fib_iterative(n):\n",
    "    k = n\n",
    "    i,j = 0,1\n",
    "    while k>0:\n",
    "        i,j = i+j,i\n",
    "        k-=1\n",
    "    return(i)\n",
    "   \n",
    "print ([fib_iterative(n) for n in range(0,20)])"
   ]
  },
  {
   "cell_type": "markdown",
   "metadata": {},
   "source": [
    "## Question 4\n",
    "Write a function fib_iterative_cost(n) that returns the number of additions done to compute fib_iterative(n). What is the complexity of fib_iterative(n)?"
   ]
  },
  {
   "cell_type": "code",
   "execution_count": 22,
   "metadata": {},
   "outputs": [
    {
     "name": "stdout",
     "output_type": "stream",
     "text": [
      "[0, 1, 2, 3, 4, 5, 6, 7, 8, 9, 10, 11, 12, 13, 14, 15, 16, 17, 18, 19]\n"
     ]
    }
   ],
   "source": [
    "def fib_iterative_cost(n):\n",
    "    k = n\n",
    "    i = 0\n",
    "    while k>0:\n",
    "        i+=1\n",
    "        k-=1\n",
    "    return(i)\n",
    "\n",
    "print ([fib_iterative_cost(n) for n in range(0,20)])\n",
    "\n",
    "# complexity is: __O(n)______"
   ]
  },
  {
   "cell_type": "markdown",
   "metadata": {},
   "source": [
    "## Question 5\n",
    "Write a function fib_recursive_linear(n) that implements the linear recursive Fibonacci number function described in the PowerPoint slides."
   ]
  },
  {
   "cell_type": "code",
   "execution_count": 23,
   "metadata": {},
   "outputs": [
    {
     "name": "stdout",
     "output_type": "stream",
     "text": [
      "[0, 1, 1, 2, 3, 5, 8, 13, 21, 34, 55, 89, 144, 233, 377, 610, 987, 1597, 2584, 4181]\n"
     ]
    }
   ],
   "source": [
    "def fib_recursive_linear(n):\n",
    "    if n == 0:\n",
    "        return(0,0)\n",
    "    if n == 1:\n",
    "        return(1,0)\n",
    "    else:\n",
    "        (i,j) = fib_recursive_linear(n-1)\n",
    "        return(i+j,i)\n",
    "\n",
    "print ([fib_recursive_linear(n)[0] for n in range(0,20)])"
   ]
  },
  {
   "cell_type": "markdown",
   "metadata": {},
   "source": [
    "## Question 6\n",
    "Write a function fib_recursive_linear_cost(n) that counts the number of additions incurred by a call to fib_recursive_linear(n)."
   ]
  },
  {
   "cell_type": "code",
   "execution_count": 24,
   "metadata": {},
   "outputs": [
    {
     "name": "stdout",
     "output_type": "stream",
     "text": [
      "[0, 0, 1, 2, 3, 4, 5, 6, 7, 8, 9, 10, 11, 12, 13, 14, 15, 16, 17, 18]\n"
     ]
    }
   ],
   "source": [
    "\n",
    "def fib_recursive_linear_cost(n):\n",
    "    if n == 0:\n",
    "        return(0)\n",
    "    if n == 1:\n",
    "        return(0)\n",
    "    else: \n",
    "        return(fib_recursive_linear_cost(n-1)+1)\n",
    "        \n",
    "\n",
    "print ([fib_recursive_linear_cost(n) for n in range (0,20) ])"
   ]
  },
  {
   "cell_type": "markdown",
   "metadata": {},
   "source": [
    "## Question 7\n",
    "Write a function fib_recursive_fast(n) that implements the recurrence described in the note accompanying this assignment. "
   ]
  },
  {
   "cell_type": "code",
   "execution_count": 25,
   "metadata": {},
   "outputs": [
    {
     "name": "stdout",
     "output_type": "stream",
     "text": [
      "[0, 1, 1, 2, 3, 5, 8, 13, 21, 34, 55, 89, 144, 233, 377, 610, 987, 1597, 2584, 4181]\n"
     ]
    }
   ],
   "source": [
    "def fib_recursive_fast(n):\n",
    "    if n<3:\n",
    "        if n == 0:\n",
    "            return(0)\n",
    "        if n == 1 or 2:\n",
    "            return(1)\n",
    "    if n%2 == 0:\n",
    "        return(fib_recursive_fast((n/2)+1)**2 - fib_recursive_fast((n/2)-1)**2)\n",
    "    if n%2 == 1:\n",
    "        return(fib_recursive_fast((n+1)/2)**2 + fib_recursive_fast((n-1)/2)**2)\n",
    "\n",
    "print ([fib_recursive_fast(n) for n in range(0,20)])"
   ]
  },
  {
   "cell_type": "markdown",
   "metadata": {},
   "source": [
    "## Question 8\n",
    "Write a function fib_recursive_fast_cost(n) that counts the additions in fib_recirsive_fast(n). "
   ]
  },
  {
   "cell_type": "code",
   "execution_count": 26,
   "metadata": {},
   "outputs": [
    {
     "name": "stdout",
     "output_type": "stream",
     "text": [
      "[0, 0, 0, 1, 2, 2, 3, 4, 4, 5, 6, 6, 7, 8, 8, 9, 10, 10, 11, 12]\n"
     ]
    }
   ],
   "source": [
    "def fib_recursive_fast_cost(n):\n",
    "    if n<3:\n",
    "        return(0)\n",
    "    if n%2 == 1:\n",
    "        return(fib_recursive_fast_cost((n+1)/2) + fib_recursive_fast_cost((n-1)/2)+1)\n",
    "    if n%2 == 0:\n",
    "        return(fib_recursive_fast_cost(n/2+1) + fib_recursive_fast_cost(n/2-1)+1)\n",
    "\n",
    "print ([fib_recursive_fast_cost(n) for n in range (0,20) ])"
   ]
  },
  {
   "cell_type": "markdown",
   "metadata": {},
   "source": [
    "## Question 9\n",
    "Observe the time it takes to compute $F_{10}, F_{20}, F_{30}$. (There is nothing for you to do here except running the following block)"
   ]
  },
  {
   "cell_type": "code",
   "execution_count": 10,
   "metadata": {},
   "outputs": [
    {
     "name": "stdout",
     "output_type": "stream",
     "text": [
      "for n = 10\n",
      "26.8 µs ± 553 ns per loop (mean ± std. dev. of 7 runs, 10,000 loops each)\n",
      "979 ns ± 35.8 ns per loop (mean ± std. dev. of 7 runs, 1,000,000 loops each)\n",
      "2.22 µs ± 32.7 ns per loop (mean ± std. dev. of 7 runs, 100,000 loops each)\n",
      "6.6 µs ± 26.2 ns per loop (mean ± std. dev. of 7 runs, 100,000 loops each)\n",
      "for n = 20\n",
      "3.25 ms ± 3.49 µs per loop (mean ± std. dev. of 7 runs, 100 loops each)\n",
      "2 µs ± 63.7 ns per loop (mean ± std. dev. of 7 runs, 1,000,000 loops each)\n",
      "4.97 µs ± 175 ns per loop (mean ± std. dev. of 7 runs, 100,000 loops each)\n",
      "13.5 µs ± 125 ns per loop (mean ± std. dev. of 7 runs, 100,000 loops each)\n",
      "for n = 30\n",
      "401 ms ± 379 µs per loop (mean ± std. dev. of 7 runs, 1 loop each)\n",
      "2.79 µs ± 19.5 ns per loop (mean ± std. dev. of 7 runs, 100,000 loops each)\n",
      "7.37 µs ± 11.4 ns per loop (mean ± std. dev. of 7 runs, 100,000 loops each)\n",
      "21.2 µs ± 311 ns per loop (mean ± std. dev. of 7 runs, 10,000 loops each)\n"
     ]
    }
   ],
   "source": [
    "for n in [10,20,30]:\n",
    "    print('for n =',n)\n",
    "    %timeit fib_recursive(n)\n",
    "    %timeit fib_iterative(n)\n",
    "    %timeit fib_recursive_linear(n)\n",
    "    %timeit fib_recursive_fast(n)"
   ]
  },
  {
   "cell_type": "markdown",
   "metadata": {},
   "source": [
    "## Question 10\n",
    "\n",
    "Look up Fibonacci numbers in Wikipedia and implement a function fib_direct(n) that computes $F_n$ directly. (Your function should return an integer.) Find the smallest value for which the direct formula gives an incorrect result. Explain what went wrong."
   ]
  },
  {
   "cell_type": "code",
   "execution_count": 27,
   "metadata": {},
   "outputs": [
    {
     "name": "stdout",
     "output_type": "stream",
     "text": [
      "[0, 1, 1, 2, 3, 5, 8, 13, 21, 34, 55, 89, 144, 233, 377, 610, 987, 1597, 2584, 4181]\n"
     ]
    }
   ],
   "source": [
    "\n",
    "def fib_direct(n):\n",
    "    import math\n",
    "    return(int(round((1./math.sqrt(5))*((1+math.sqrt(5))/2)**n - (1./math.sqrt(5))*((1-math.sqrt(5))/2)**n, 0)))\n",
    "\n",
    "print ([fib_direct(n) for n in range(0,20)])"
   ]
  },
  {
   "cell_type": "code",
   "execution_count": 28,
   "metadata": {},
   "outputs": [
    {
     "name": "stdout",
     "output_type": "stream",
     "text": [
      "71\n",
      "117669030460994 117669030460994 190392490709135 190392490709135 308061521170130 308061521170129\n",
      "308061521170129.7 -6.492209713187448e-16\n",
      "190392490709135.44 1.0504615978029498e-15\n"
     ]
    }
   ],
   "source": [
    "# Compare fib_direct() and fib_recursive_fast() and find where they differ\n",
    "import math\n",
    "for n in range(75):\n",
    "        if fib_direct(n) != fib_recursive_fast(n):\n",
    "            print(n)\n",
    "            break\n",
    "print(fib_direct(69), fib_recursive_fast(69), fib_direct(70), fib_recursive_fast(70), fib_direct(71), fib_recursive_fast(71))\n",
    "\n",
    "print(str((1./math.sqrt(5))*((1+math.sqrt(5))/2)**71), (1./math.sqrt(5))*((1-math.sqrt(5))/2)**71)\n",
    "\n",
    "print((1./math.sqrt(5))*((1+math.sqrt(5))/2)**70, (1./math.sqrt(5))*((1-math.sqrt(5))/2)**70)\n",
    "\n",
    "# That n = __71____\n",
    "\n",
    "# Explain\n",
    "# ___Something about fpa; errors are inherently introducted when representing_______\n",
    "#most real numbers on a computer. These errors compound when doing computations \n",
    "#and that's part of what we're seeing here. \n",
    "\n",
    "\n",
    "\n"
   ]
  },
  {
   "cell_type": "markdown",
   "metadata": {},
   "source": [
    "## Question 11\n",
    "Finish the implementation of binary search."
   ]
  },
  {
   "cell_type": "code",
   "execution_count": 29,
   "metadata": {},
   "outputs": [],
   "source": [
    "def binary_search(arr, x, imin, imax):\n",
    "    if imin>imax:\n",
    "        return -1\n",
    "    else:\n",
    "        m = (imin+imax)//2\n",
    "        if x == arr[m]:\n",
    "            return m\n",
    "        elif x<arr[m]:\n",
    "            return(binary_search(arr, x, imin, m-1))\n",
    "        else:\n",
    "            return(binary_search(arr, x, m+1, imax))\n",
    " \n",
    "\n",
    "def find(arr, x):\n",
    "    \"\"\" return index i so that arr[i]==x or -1 if x is not in arr[imin:imax]\"\"\"\n",
    "    return binary_search(arr,x,0,len(arr)-1)\n"
   ]
  },
  {
   "cell_type": "code",
   "execution_count": 30,
   "metadata": {},
   "outputs": [
    {
     "name": "stdout",
     "output_type": "stream",
     "text": [
      "True\n",
      "True\n",
      "True\n",
      "True\n",
      "True\n",
      "True\n"
     ]
    }
   ],
   "source": [
    "# checks, make sure they all return true\n",
    "print (3==find([1,3,7,8,11,17],8))\n",
    "print (0==find([1,3,7,8,11],1))\n",
    "print (0==find([1],1))\n",
    "\n",
    "print (-1==find([1,3,7,8,11],4))\n",
    "print (-1==find([],1))\n",
    "print (-1==find([3],1))"
   ]
  },
  {
   "cell_type": "code",
   "execution_count": 17,
   "metadata": {},
   "outputs": [
    {
     "name": "stdout",
     "output_type": "stream",
     "text": [
      "-1\n"
     ]
    }
   ],
   "source": [
    "# Why does the algorithm not find the solution in the following example?\n",
    "print (find([4,5,3],3))\n"
   ]
  },
  {
   "cell_type": "code",
   "execution_count": 18,
   "metadata": {},
   "outputs": [],
   "source": [
    "# Your answer here:\n",
    "# The algorithm fails because the array is not in ascending order; \n",
    "# when it is checked whether 3<5=arr[1], the result is True so that\n",
    "# python follows the instructions of the algorithm to check the\n",
    "# first half of the array for 3."
   ]
  },
  {
   "cell_type": "code",
   "execution_count": null,
   "metadata": {},
   "outputs": [],
   "source": []
  }
 ],
 "metadata": {
  "kernelspec": {
   "display_name": "Python 3 (ipykernel)",
   "language": "python",
   "name": "python3"
  },
  "language_info": {
   "codemirror_mode": {
    "name": "ipython",
    "version": 3
   },
   "file_extension": ".py",
   "mimetype": "text/x-python",
   "name": "python",
   "nbconvert_exporter": "python",
   "pygments_lexer": "ipython3",
   "version": "3.10.6"
  }
 },
 "nbformat": 4,
 "nbformat_minor": 1
}
