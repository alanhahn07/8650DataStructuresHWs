{
 "cells": [
  {
   "cell_type": "markdown",
   "metadata": {},
   "source": [
    "# Priority Queues\n",
    "your name: __Alan Hahn________"
   ]
  },
  {
   "cell_type": "code",
   "execution_count": 1,
   "metadata": {},
   "outputs": [
    {
     "name": "stdout",
     "output_type": "stream",
     "text": [
      "a= (1, 'abc')  b= (1, 'aaello')\n",
      "False True False True\n"
     ]
    }
   ],
   "source": [
    "# Note that tuples have an ordering so we can put key/value \n",
    "# pairs into a priority queue:\n",
    "a=(1,\"abc\")\n",
    "c=(5,\"ael\")\n",
    "b=(1,\"aaello\")\n",
    "print (\"a=\",a,\" b=\",b)\n",
    "print (a<b, a>b, a==b, b<c)"
   ]
  },
  {
   "cell_type": "code",
   "execution_count": 3,
   "metadata": {
    "scrolled": true
   },
   "outputs": [
    {
     "ename": "ModuleNotFoundError",
     "evalue": "No module named 'networkx'",
     "output_type": "error",
     "traceback": [
      "\u001b[0;31m---------------------------------------------------------------------------\u001b[0m",
      "\u001b[0;31mModuleNotFoundError\u001b[0m                       Traceback (most recent call last)",
      "Input \u001b[0;32mIn [3]\u001b[0m, in \u001b[0;36m<cell line: 8>\u001b[0;34m()\u001b[0m\n\u001b[1;32m      1\u001b[0m \u001b[38;5;66;03m# The most common tool for working with graphs is networkx. See\u001b[39;00m\n\u001b[1;32m      2\u001b[0m \u001b[38;5;66;03m#     https://networkx.github.io/documentation/stable/ or\u001b[39;00m\n\u001b[1;32m      3\u001b[0m \u001b[38;5;66;03m#     https://networkx.github.io/documentation/networkx-1.10/\u001b[39;00m\n\u001b[1;32m      4\u001b[0m \u001b[38;5;66;03m# (depending on your version)11\u001b[39;00m\n\u001b[1;32m      5\u001b[0m \u001b[38;5;66;03m# Networkx uses matplotlib to draw pictures of graphs. The various networks drawing methods \u001b[39;00m\n\u001b[1;32m      6\u001b[0m \u001b[38;5;66;03m# give a lot of fine control over the appearance of graphs.\u001b[39;00m\n\u001b[0;32m----> 8\u001b[0m \u001b[38;5;28;01mimport\u001b[39;00m \u001b[38;5;21;01mnetworkx\u001b[39;00m \u001b[38;5;28;01mas\u001b[39;00m \u001b[38;5;21;01mnx\u001b[39;00m\n\u001b[1;32m      9\u001b[0m \u001b[38;5;28;01mimport\u001b[39;00m \u001b[38;5;21;01mmatplotlib\u001b[39;00m\u001b[38;5;21;01m.\u001b[39;00m\u001b[38;5;21;01mpyplot\u001b[39;00m \u001b[38;5;28;01mas\u001b[39;00m \u001b[38;5;21;01mplt\u001b[39;00m\n\u001b[1;32m     11\u001b[0m G \u001b[38;5;241m=\u001b[39m nx\u001b[38;5;241m.\u001b[39mGraph()\n",
      "\u001b[0;31mModuleNotFoundError\u001b[0m: No module named 'networkx'"
     ]
    }
   ],
   "source": [
    "# The most common tool for working with graphs is networkx. See\n",
    "#     https://networkx.github.io/documentation/stable/ or\n",
    "#     https://networkx.github.io/documentation/networkx-1.10/\n",
    "# (depending on your version)11\n",
    "# Networkx uses matplotlib to draw pictures of graphs. The various networks drawing methods \n",
    "# give a lot of fine control over the appearance of graphs.\n",
    "\n",
    "import networkx as nx\n",
    "import matplotlib.pyplot as plt\n",
    "\n",
    "G = nx.Graph()\n",
    "# Not actualy necessary to add nodes explicitly. They will be added if they appear in edges.\n",
    "G.add_node('1')\n",
    "G.add_node('2')\n",
    "G.add_node('3')\n",
    "G.add_node('4')\n",
    "G.add_node('5')\n",
    "\n",
    "G.add_edge('1', '2') \n",
    "G.add_edge('2', '3') \n",
    "G.add_edge('3', '4') \n",
    "G.add_edge('4', '1') \n",
    "G.add_edge('4', '5') \n",
    "G.add_edge('4','5')\n",
    "nx.draw_networkx(G)\n",
    "plt.savefig(\"undirected.png\")\n",
    "plt.show()\n",
    "\n",
    "# Nodes can be any objects (e.g. integers)\n",
    "# We can rename nodes as well\n",
    "cities = {'1': \"New York\", '2': \"London\", '3': \"Berlin\", '4': \"Paris\", '5': \"Milan\"}\n",
    "H = nx.relabel_nodes(G, cities)\n",
    "nx.draw_networkx(H)\n",
    "plt.savefig(\"undir-renamed.png\")\n",
    "plt.show()\n",
    "\n",
    "G = nx.DiGraph()\n",
    "G.add_node('1')\n",
    "G.add_node('2')\n",
    "G.add_node('3')\n",
    "G.add_node('4')\n",
    "G.add_node('5')\n",
    "\n",
    "G.add_edge('1', '2') \n",
    "G.add_edge('2', '3') \n",
    "G.add_edge('3', '4') \n",
    "G.add_edge('4', '1') \n",
    "G.add_edge('4', '5') \n",
    "nx.draw_networkx(G)\n",
    "plt.savefig(\"directed.png\")\n",
    "plt.show()"
   ]
  },
  {
   "cell_type": "code",
   "execution_count": 8,
   "metadata": {},
   "outputs": [],
   "source": [
    "class PriorityQueue():\n",
    "    '''\n",
    "    The arguments passed to a PriorityQueue must consist of\n",
    "    objects than can be compared using <.\n",
    "    Use a tuple (priority, item) if necessary.\n",
    "    '''\n",
    "\n",
    "    def __init__(self):\n",
    "        self._array = []\n",
    "\n",
    "    def push(self, obj):\n",
    "        # append at end and bubble up\n",
    "        self._array.append(obj)\n",
    "        n = len(self._array)\n",
    "        self._bubble_up(n-1)\n",
    "        \n",
    "    def pop(self):\n",
    "        n = len(self._array)\n",
    "        if n==0:\n",
    "            return None\n",
    "        if n==1:\n",
    "            return self._array.pop()\n",
    "        \n",
    "        # replace with last item and sift down:\n",
    "        obj = self._array[0]\n",
    "        self._array[0] = self._array.pop()\n",
    "        self._sift_down(0)\n",
    "        return obj\n",
    "    \n",
    "    def _parent(self, n):\n",
    "        return (n-1)//2\n",
    "\n",
    "    def _left_child(self, n):\n",
    "        return 2*n + 1\n",
    "\n",
    "    def _right_child(self, n):\n",
    "        return 2*n + 2\n",
    "\n",
    "    def _bubble_up(self, index):\n",
    "        while index>0:\n",
    "            cur_item = self._array[index]\n",
    "            parent_idx = self._parent(index)\n",
    "            parent_item = self._array[parent_idx]\n",
    "            \n",
    "            if cur_item < parent_item:\n",
    "                # swap with parent\n",
    "                self._array[parent_idx] = cur_item\n",
    "                self._array[index] = parent_item\n",
    "                index = parent_idx\n",
    "            else:\n",
    "                break\n",
    "    \n",
    "    def _sift_down(self,index):\n",
    "        n = len(self._array)\n",
    "        \n",
    "        while index<n:           \n",
    "            cur_item = self._array[index]\n",
    "            lc = self._left_child(index)\n",
    "            if n <= lc:\n",
    "                break\n",
    "\n",
    "            # first set small child to left child:\n",
    "            small_child_item = self._array[lc]\n",
    "            small_child_idx = lc\n",
    "            \n",
    "            # right exists and is smaller?\n",
    "            rc = self._right_child(index)\n",
    "            if rc < n:\n",
    "                r_item = self._array[rc]\n",
    "                if r_item < small_child_item:\n",
    "                    # right child is smaller than left child:\n",
    "                    small_child_item = r_item\n",
    "                    small_child_idx = rc\n",
    "            \n",
    "            # done: we are smaller than both children:\n",
    "            if cur_item <= small_child_item:\n",
    "                break\n",
    "            \n",
    "            # swap with smallest child:\n",
    "            self._array[index] = small_child_item\n",
    "            self._array[small_child_idx] = cur_item\n",
    "            \n",
    "            # continue with smallest child:\n",
    "            index = small_child_idx\n",
    "        \n",
    "    def size(self):\n",
    "        return len(self._array)\n",
    "    \n",
    "    def is_empty(self):\n",
    "        return len(self._array) == 0\n",
    "    \n",
    "    def show(self):\n",
    "        #adjacency_map = {}\n",
    "        #s = set()    \n",
    "        #fqr = nx.Graph()\n",
    "        #for i in range((len(self._array)-1)//2):\n",
    "        #    if self._left_child(i) < len(self._array):\n",
    "        #        s.add((self._array[i], self._array[self._left_child(i)]))\n",
    "        #    if self._right_child(i) < len(self._array):\n",
    "        #        s.add((self._array[i], self._array[self._right_child(i)]))\n",
    "        #for i in self._array:\n",
    "        #    adjacency_map[i] = []\n",
    "        #for p,c in s:\n",
    "        #    adjacency_map[p].append(c)\n",
    "        #    \n",
    "        #Q = []\n",
    "        #root = self.pop()\n",
    "        #self.push(root)\n",
    "        #Q.append((root,1))\n",
    "        #i = 1\n",
    "        #while len(Q)>0:\n",
    "        #    (p,i) = Q.pop(0)\n",
    "        #    print (p,i)\n",
    "        #    fqr.add_node(p, pos = (random.randint(0,len(self._array)),i))\n",
    "        #    children = adjacency_map[p]\n",
    "        #    for child in children:\n",
    "        #        Q.append((child,i+1))\n",
    "        #    \n",
    "        #print(s)  \n",
    "        #print(adjacency_map)\n",
    "        \n",
    "        \n",
    "        #I don't see why the above method doesn't work. It should as far as I can tell.\n",
    "        #The idea is that it keeps track of the depth of a node with respect to the \n",
    "        #root, and places a node on the graph at y position equal to the depth ( so  \n",
    "        #that all nodes of the same depth are at the same height in the graph), then \n",
    "        #gives a node an arbitrary x-coordinate within (0,len(self._array)) of the array.\n",
    "        #Then below we add the edges. However, running the above code just put the \n",
    "        #nodes in a circular pattern in the graph.\n",
    "        \n",
    "        \n",
    "        fqr = nx.Graph()\n",
    "        for i in range((len(self._array)-1)//2):\n",
    "            if self._left_child(i) < len(self._array):\n",
    "                fqr.add_edge(self._array[i], self._array[self._left_child(i)])    \n",
    "            if self._right_child(i) < len(self._array):\n",
    "                fqr.add_edge(self._array[i], self._array[self._right_child(i)])\n",
    "                \n",
    "        nx.draw_networkx(fqr)\n",
    "        plt.savefig(\"fqr.png\")\n",
    "        plt.show()\n",
    "        \n",
    "    \n",
    "    def heapifytry0(self, items):   #this was my first attempt and was wrong; see below for correct algorithm\n",
    "        \"\"\" Take an array of unsorted items and replace the contents\n",
    "        of this priority queue by them. \"\"\"\n",
    "        while not self.is_empty():\n",
    "            self.pop()\n",
    "        while not len(items) == 0:\n",
    "            self.push(items.pop())\n",
    "            \n",
    "            \n",
    "    def heapifytry1(self, items):\n",
    "        \"\"\" Take an array of unsorted items and replace the contents\n",
    "        of this priority queue by them. \"\"\"\n",
    "        while not self.is_empty():\n",
    "            self.pop()\n",
    "        while not len(items) == 0:\n",
    "            self._array.append(items.pop())\n",
    "            self._bubble_up(len(self._array)-1)\n",
    "            \n",
    "            \n",
    "    def heapify(self, items):\n",
    "        \"\"\" Take an array of unsorted items and replace the contents\n",
    "        of this priority queue by them. \"\"\"\n",
    "        self._array = items\n",
    "        i = len(self._array)//2\n",
    "        while i != -1:\n",
    "            self._sift_down(i)\n",
    "            i-=1\n",
    "            \n",
    "\n",
    "    def decrease_priority(self, old, new):\n",
    "        # replace old by new and we can assume that new will compare smaller\n",
    "        # (so priority is higher or the value is smaller)\n",
    "        assert(new <= old)\n",
    "        s = set()\n",
    "        s.add(new)\n",
    "        t = self.pop()\n",
    "        while t != old:\n",
    "            s.add(t)\n",
    "            t = self.pop()\n",
    "        for i in s:\n",
    "            self.push(i)\n",
    "            \n",
    "        \n",
    "            "
   ]
  },
  {
   "cell_type": "code",
   "execution_count": 9,
   "metadata": {},
   "outputs": [
    {
     "name": "stdout",
     "output_type": "stream",
     "text": [
      "(1, 'b')\n",
      "[(2, 'a'), (5, 'c')]\n"
     ]
    }
   ],
   "source": [
    "l = PriorityQueue()\n",
    "l.push((2,'a'))\n",
    "l.push((1,'b'))\n",
    "l.push((5,'c'))\n",
    "#l._array.pop()\n",
    "#print (l._array.pop())\n",
    "print(l.pop())\n",
    "print(l._array)"
   ]
  },
  {
   "cell_type": "code",
   "execution_count": 10,
   "metadata": {},
   "outputs": [
    {
     "ename": "NameError",
     "evalue": "name 'nx' is not defined",
     "output_type": "error",
     "traceback": [
      "\u001b[0;31m---------------------------------------------------------------------------\u001b[0m",
      "\u001b[0;31mNameError\u001b[0m                                 Traceback (most recent call last)",
      "Input \u001b[0;32mIn [10]\u001b[0m, in \u001b[0;36m<cell line: 7>\u001b[0;34m()\u001b[0m\n\u001b[1;32m      4\u001b[0m \u001b[38;5;28;01mfor\u001b[39;00m i \u001b[38;5;129;01min\u001b[39;00m \u001b[38;5;28mrange\u001b[39m(\u001b[38;5;241m20\u001b[39m):\n\u001b[1;32m      5\u001b[0m     pq\u001b[38;5;241m.\u001b[39mpush(random\u001b[38;5;241m.\u001b[39mrandint(\u001b[38;5;241m0\u001b[39m,\u001b[38;5;241m100\u001b[39m))\n\u001b[0;32m----> 7\u001b[0m \u001b[43mpq\u001b[49m\u001b[38;5;241;43m.\u001b[39;49m\u001b[43mshow\u001b[49m\u001b[43m(\u001b[49m\u001b[43m)\u001b[49m\n\u001b[1;32m      8\u001b[0m \u001b[38;5;28mprint\u001b[39m (\u001b[38;5;124m\"\u001b[39m\u001b[38;5;124mempty = \u001b[39m\u001b[38;5;124m\"\u001b[39m, pq\u001b[38;5;241m.\u001b[39mis_empty(), \u001b[38;5;124m\"\u001b[39m\u001b[38;5;124m, size = \u001b[39m\u001b[38;5;124m\"\u001b[39m,pq\u001b[38;5;241m.\u001b[39msize())\n\u001b[1;32m      9\u001b[0m \u001b[38;5;28mprint\u001b[39m (\u001b[38;5;124m\"\u001b[39m\u001b[38;5;124marray: \u001b[39m\u001b[38;5;124m\"\u001b[39m, pq\u001b[38;5;241m.\u001b[39m_array)\n",
      "Input \u001b[0;32mIn [8]\u001b[0m, in \u001b[0;36mPriorityQueue.show\u001b[0;34m(self)\u001b[0m\n\u001b[1;32m     92\u001b[0m \u001b[38;5;28;01mdef\u001b[39;00m \u001b[38;5;21mshow\u001b[39m(\u001b[38;5;28mself\u001b[39m):\n\u001b[1;32m     93\u001b[0m     \u001b[38;5;66;03m#adjacency_map = {}\u001b[39;00m\n\u001b[1;32m     94\u001b[0m     \u001b[38;5;66;03m#s = set()    \u001b[39;00m\n\u001b[0;32m   (...)\u001b[0m\n\u001b[1;32m    128\u001b[0m     \u001b[38;5;66;03m#Then below we add the edges. However, running the above code just put the \u001b[39;00m\n\u001b[1;32m    129\u001b[0m     \u001b[38;5;66;03m#nodes in a circular pattern in the graph.\u001b[39;00m\n\u001b[0;32m--> 132\u001b[0m     fqr \u001b[38;5;241m=\u001b[39m \u001b[43mnx\u001b[49m\u001b[38;5;241m.\u001b[39mGraph()\n\u001b[1;32m    133\u001b[0m     \u001b[38;5;28;01mfor\u001b[39;00m i \u001b[38;5;129;01min\u001b[39;00m \u001b[38;5;28mrange\u001b[39m((\u001b[38;5;28mlen\u001b[39m(\u001b[38;5;28mself\u001b[39m\u001b[38;5;241m.\u001b[39m_array)\u001b[38;5;241m-\u001b[39m\u001b[38;5;241m1\u001b[39m)\u001b[38;5;241m/\u001b[39m\u001b[38;5;241m/\u001b[39m\u001b[38;5;241m2\u001b[39m):\n\u001b[1;32m    134\u001b[0m         \u001b[38;5;28;01mif\u001b[39;00m \u001b[38;5;28mself\u001b[39m\u001b[38;5;241m.\u001b[39m_left_child(i) \u001b[38;5;241m<\u001b[39m \u001b[38;5;28mlen\u001b[39m(\u001b[38;5;28mself\u001b[39m\u001b[38;5;241m.\u001b[39m_array):\n",
      "\u001b[0;31mNameError\u001b[0m: name 'nx' is not defined"
     ]
    }
   ],
   "source": [
    "# small demo where we fill and empty a priority queue with random numbers\n",
    "import random\n",
    "pq = PriorityQueue()\n",
    "for i in range(20):\n",
    "    pq.push(random.randint(0,100))\n",
    "    \n",
    "pq.show()\n",
    "print (\"empty = \", pq.is_empty(), \", size = \",pq.size())\n",
    "print (\"array: \", pq._array)\n",
    "\n",
    "print (\"\\nin order:\")\n",
    "while not pq.is_empty():\n",
    "    print (pq.pop())\n",
    "    \n",
    "print ()\n",
    "print (\"empty = \", pq.is_empty(), \", size = \",pq.size())\n",
    "print (\"array: \", pq._array)\n"
   ]
  },
  {
   "cell_type": "markdown",
   "metadata": {},
   "source": [
    "## Question 1\n",
    "Implement PriorityQueue.show() that shows a graphical representation of the tree (either using matplotlib and networkx or by formatting text and print layer by layer, indented reasonably well):"
   ]
  },
  {
   "cell_type": "code",
   "execution_count": 12,
   "metadata": {},
   "outputs": [
    {
     "name": "stdout",
     "output_type": "stream",
     "text": [
      "[2, 2, 5, 7, 4, 8, 9, 23, 43, 5]\n"
     ]
    },
    {
     "ename": "NameError",
     "evalue": "name 'nx' is not defined",
     "output_type": "error",
     "traceback": [
      "\u001b[0;31m---------------------------------------------------------------------------\u001b[0m",
      "\u001b[0;31mNameError\u001b[0m                                 Traceback (most recent call last)",
      "Input \u001b[0;32mIn [12]\u001b[0m, in \u001b[0;36m<cell line: 6>\u001b[0;34m()\u001b[0m\n\u001b[1;32m      3\u001b[0m     pq\u001b[38;5;241m.\u001b[39mpush(i)\n\u001b[1;32m      4\u001b[0m \u001b[38;5;28mprint\u001b[39m(pq\u001b[38;5;241m.\u001b[39m_array)\n\u001b[0;32m----> 6\u001b[0m \u001b[43mpq\u001b[49m\u001b[38;5;241;43m.\u001b[39;49m\u001b[43mshow\u001b[49m\u001b[43m(\u001b[49m\u001b[43m)\u001b[49m\n",
      "Input \u001b[0;32mIn [8]\u001b[0m, in \u001b[0;36mPriorityQueue.show\u001b[0;34m(self)\u001b[0m\n\u001b[1;32m     92\u001b[0m \u001b[38;5;28;01mdef\u001b[39;00m \u001b[38;5;21mshow\u001b[39m(\u001b[38;5;28mself\u001b[39m):\n\u001b[1;32m     93\u001b[0m     \u001b[38;5;66;03m#adjacency_map = {}\u001b[39;00m\n\u001b[1;32m     94\u001b[0m     \u001b[38;5;66;03m#s = set()    \u001b[39;00m\n\u001b[0;32m   (...)\u001b[0m\n\u001b[1;32m    128\u001b[0m     \u001b[38;5;66;03m#Then below we add the edges. However, running the above code just put the \u001b[39;00m\n\u001b[1;32m    129\u001b[0m     \u001b[38;5;66;03m#nodes in a circular pattern in the graph.\u001b[39;00m\n\u001b[0;32m--> 132\u001b[0m     fqr \u001b[38;5;241m=\u001b[39m \u001b[43mnx\u001b[49m\u001b[38;5;241m.\u001b[39mGraph()\n\u001b[1;32m    133\u001b[0m     \u001b[38;5;28;01mfor\u001b[39;00m i \u001b[38;5;129;01min\u001b[39;00m \u001b[38;5;28mrange\u001b[39m((\u001b[38;5;28mlen\u001b[39m(\u001b[38;5;28mself\u001b[39m\u001b[38;5;241m.\u001b[39m_array)\u001b[38;5;241m-\u001b[39m\u001b[38;5;241m1\u001b[39m)\u001b[38;5;241m/\u001b[39m\u001b[38;5;241m/\u001b[39m\u001b[38;5;241m2\u001b[39m):\n\u001b[1;32m    134\u001b[0m         \u001b[38;5;28;01mif\u001b[39;00m \u001b[38;5;28mself\u001b[39m\u001b[38;5;241m.\u001b[39m_left_child(i) \u001b[38;5;241m<\u001b[39m \u001b[38;5;28mlen\u001b[39m(\u001b[38;5;28mself\u001b[39m\u001b[38;5;241m.\u001b[39m_array):\n",
      "\u001b[0;31mNameError\u001b[0m: name 'nx' is not defined"
     ]
    }
   ],
   "source": [
    "pq = PriorityQueue()\n",
    "for i in [5,7,2,5,4,8,9,23,43,2]:\n",
    "    pq.push(i)\n",
    "print(pq._array)\n",
    "\n",
    "pq.show()"
   ]
  },
  {
   "cell_type": "markdown",
   "metadata": {},
   "source": [
    "## Question 2\n",
    "You are given the following dictionary of people and their age. Use a priority queue (and no other data structure/array/...) to output their names sorted by age (once with increasing age, then with decreasing age). Print age and name for each person in a single line."
   ]
  },
  {
   "cell_type": "code",
   "execution_count": 6,
   "metadata": {},
   "outputs": [
    {
     "data": {
      "text/plain": [
       "(5, 'a')"
      ]
     },
     "execution_count": 6,
     "metadata": {},
     "output_type": "execute_result"
    }
   ],
   "source": [
    "l = PriorityQueue()\n",
    "l.push((5,'a'))\n",
    "l.push((4,'b'))\n",
    "l._array.pop(0)\n",
    "l.pop()"
   ]
  },
  {
   "cell_type": "code",
   "execution_count": 13,
   "metadata": {
    "scrolled": true
   },
   "outputs": [
    {
     "name": "stdout",
     "output_type": "stream",
     "text": [
      "(1, 'Madison')\n",
      "(4, 'Noah')\n",
      "(5, 'Ava')\n",
      "(7, 'Jacob')\n",
      "(10, 'Mia')\n",
      "(13, 'Charlotte')\n",
      "(13, 'Charlotte')\n",
      "(10, 'Mia')\n",
      "(7, 'Jacob')\n",
      "(5, 'Ava')\n",
      "(4, 'Noah')\n",
      "(1, 'Madison')\n"
     ]
    }
   ],
   "source": [
    "names = {\"Noah\":4, \"Jacob\":7, \"Mia\":10, \"Ava\":5, \"Madison\":1, \"Charlotte\":13}\n",
    "import copy\n",
    "\n",
    "\n",
    "#Increasing order\n",
    "pq = PriorityQueue()\n",
    "for i,j in names.items():\n",
    "    pq.push((j,i))\n",
    "\n",
    "while not pq.is_empty():\n",
    "    print (pq.pop())\n",
    "\n",
    "    \n",
    "    \n",
    "#Decreasing order\n",
    "pq = PriorityQueue()\n",
    "for i,j in names.items():\n",
    "    pq.push((1./j,j,i))    \n",
    "print\n",
    "print\n",
    "while not pq.is_empty():\n",
    "    print (pq._array[0][1:])\n",
    "    pq.pop()\n",
    "\n",
    "\n",
    "\n",
    "        \n"
   ]
  },
  {
   "cell_type": "markdown",
   "metadata": {},
   "source": [
    "## Question 3\n",
    "Implement heapify() and test that it works using the following code."
   ]
  },
  {
   "cell_type": "code",
   "execution_count": null,
   "metadata": {},
   "outputs": [],
   "source": [
    "import random\n",
    "items = []\n",
    "for i in range(20):\n",
    "    items.append(random.randint(0,100))\n",
    "\n",
    "print (\"unsorted:\", items)\n",
    "pq = PriorityQueue()\n",
    "pq.heapify(items)\n",
    "print (\"in PQ:\", pq._array)\n",
    "pq.show()\n",
    "\n",
    "print (\"in order:\")\n",
    "while not pq.is_empty():\n",
    "    print (pq.pop())"
   ]
  },
  {
   "cell_type": "markdown",
   "metadata": {},
   "source": [
    "## Question 4\n",
    "implement decrease_priority() to decrease the priority of an item in the priority queue. Sadly, you have to search for the item before you can change it making the operation more expensive (please fill in below). This can be avoided, but we are not going to discuss this here."
   ]
  },
  {
   "cell_type": "code",
   "execution_count": 4,
   "metadata": {},
   "outputs": [
    {
     "name": "stdout",
     "output_type": "stream",
     "text": [
      "('array: ', [1, 5, 3, 21, 27, 55, 14, 25, 23, 43, 57, 87, 63, 78, 75, 90])\n"
     ]
    },
    {
     "data": {
      "image/png": "[encoded data removed]",
      "text/plain": [
       "<Figure size 432x288 with 1 Axes>"
      ]
     },
     "metadata": {},
     "output_type": "display_data"
    },
    {
     "name": "stdout",
     "output_type": "stream",
     "text": [
      "after:\n",
      "('array: ', [1, 2, 14, 27, 3, 21, 23, 55, 57, 90, 5, 87, 63, 75, 25, 78])\n"
     ]
    },
    {
     "data": {
      "image/png": "[encoded data removed]",
      "text/plain": [
       "<Figure size 432x288 with 1 Axes>"
      ]
     },
     "metadata": {},
     "output_type": "display_data"
    }
   ],
   "source": [
    "# the cost of decrease_priority() is O(nlogn) because we have \n",
    "# to search for the item first\n",
    "\n",
    "items = [90, 25, 14, 5, 27, 63, 75, 1, 23, 43, 57, 87, 55, 78, 3, 21]\n",
    "pq = PriorityQueue()\n",
    "pq.heapify(items)\n",
    "\n",
    "print (\"array: \", pq._array)\n",
    "pq.show()\n",
    "\n",
    "pq.decrease_priority(43, 2)\n",
    "print (\"after:\")\n",
    "print (\"array: \", pq._array)\n",
    "pq.show()\n"
   ]
  },
  {
   "cell_type": "markdown",
   "metadata": {},
   "source": [
    "## Question 5\n",
    "Now similar to the name/age example before: 1) create a priority queue (this time using heapify, note that you need to create an array first) and show it, 2) change Jacob's age to 3 (using decrease_priority), 3) show the tree again"
   ]
  },
  {
   "cell_type": "code",
   "execution_count": 6,
   "metadata": {},
   "outputs": [
    {
     "data": {
      "image/png": "[encoded data removed]",
      "text/plain": [
       "<Figure size 432x288 with 1 Axes>"
      ]
     },
     "metadata": {},
     "output_type": "display_data"
    },
    {
     "data": {
      "image/png": "[encoded data removed]",
      "text/plain": [
       "<Figure size 432x288 with 1 Axes>"
      ]
     },
     "metadata": {},
     "output_type": "display_data"
    }
   ],
   "source": [
    "names = {\"Noah\":4, \"Jacob\":7, \"Mia\":10, \"Ava\":5, \"Madison\":1, \"Charlotte\":13, \"Emma\": 17, \\\n",
    "         \"Olivia\": 8, \"Abigail\": 10, \"Micheal\": 5, \"Alexander\": 43, \"Daniel\": 13}\n",
    "pq = PriorityQueue()\n",
    "l = []\n",
    "for i,j in names.items():\n",
    "    l.append((j,i))\n",
    "pq.heapify(l)\n",
    "\n",
    "pq.show()\n",
    "\n",
    "pq.decrease_priority((7,'Jacob'),(3,'Jacob'))\n",
    "\n",
    "pq.show()\n",
    "\n",
    "\n"
   ]
  },
  {
   "cell_type": "code",
   "execution_count": null,
   "metadata": {},
   "outputs": [],
   "source": []
  }
 ],
 "metadata": {
  "kernelspec": {
   "display_name": "Python 3 (ipykernel)",
   "language": "python",
   "name": "python3"
  },
  "language_info": {
   "codemirror_mode": {
    "name": "ipython",
    "version": 3
   },
   "file_extension": ".py",
   "mimetype": "text/x-python",
   "name": "python",
   "nbconvert_exporter": "python",
   "pygments_lexer": "ipython3",
   "version": "3.10.6"
  },
  "name": "hw07.ipynb"
 },
 "nbformat": 4,
 "nbformat_minor": 1
}
