{
 "cells": [
  {
   "cell_type": "markdown",
   "metadata": {},
   "source": [
    "# Homework 01\n",
    "\n",
    "Please fill in: Alan Hahn, arhahn at g dot clemson dot edu\n",
    "\n",
    "First, read chapter 3 and 4 in the python tutorial."
   ]
  },
  {
   "cell_type": "markdown",
   "metadata": {},
   "source": [
    "## Question 1\n",
    "The *p*-norm of a vector in *n*-space is the *p*-th root of the sum of *p*-th powers of absolute values of its components. The 2-norm is the usual Euclidean norm. The 1-norm is the sum of absolute values. The infinity norm or max norm is the maximum absolute value. The \"0-norm\" isn't precisely a norm, but it is the number of nonzero components. Write a python function norm(), where norm(v,p) computes the *p*-norm of v. You may assume that v is a list of numbers. The default value for p should be 2, so that norm(v) computes the Euclidean norm. Also, norm(v, 'infty' should compute the max norm of v:\n",
    "    "
   ]
  },
  {
   "cell_type": "code",
   "execution_count": 7,
   "metadata": {},
   "outputs": [
    {
     "data": {
      "text/plain": [
       "12.344199497598126"
      ]
     },
     "execution_count": 7,
     "metadata": {},
     "output_type": "execute_result"
    }
   ],
   "source": [
    "def norm(v, p = 2):\n",
    "    k = 0\n",
    "    if p<0 or 0<p<1:                #check to make sure p is valid\n",
    "        print('The input p should be non-negative and not between 0 and 1')\n",
    "    elif p == 0:                    #break into cases 0, infty, other valid p\n",
    "        for i in v:\n",
    "            if i !=0:\n",
    "                k += 1\n",
    "        return(k)\n",
    "    elif p == 'infty':\n",
    "        for i in range(len(v)):\n",
    "            v[i] = abs(v[i])\n",
    "        return(max(v))            \n",
    "    else: \n",
    "        for i in v:\n",
    "            k+=(abs(i))**p\n",
    "        k = k**(1./p)\n",
    "        return(k)\n",
    "\n",
    "\n",
    "v = [3.0, -5.0, 12, 0, 1]\n",
    "norm(v, 3)"
   ]
  },
  {
   "cell_type": "markdown",
   "metadata": {},
   "source": [
    "## Question 2\n",
    "\n",
    "Write a function print_elements(l) that prints every element of the list l. If an element is a list by itself, recursively call print_elements() for this element instead. To find out if a variable x is a list, use type(x)."
   ]
  },
  {
   "cell_type": "code",
   "execution_count": 8,
   "metadata": {},
   "outputs": [
    {
     "name": "stdout",
     "output_type": "stream",
     "text": [
      "1\n",
      "hello\n",
      "3\n",
      "4\n",
      "5\n",
      "6\n",
      "1\n",
      "2\n",
      "3\n"
     ]
    }
   ],
   "source": [
    "def print_elements(l):\n",
    "    if type(l) == list:                 #check if list type; if so then check to see if item in list is list type. \n",
    "        for i in l:                     #If item is list type, call function again on the item in the list\n",
    "            if type(i) == list:         #which is a list.\n",
    "                print_elements(i)\n",
    "            else:\n",
    "                print(i),\n",
    "    else:\n",
    "        print('The input should be a list')\n",
    "\n",
    "print_elements([[1,\"hello\"], 3, [4,5,6],[1,[2,[3]]]])"
   ]
  },
  {
   "cell_type": "markdown",
   "metadata": {},
   "source": [
    "## Question 3\n",
    "Python’s random module includes a function shuffle(data) that accepts a list of elements and randomly reorders the elements so that each possible order occurs with equal probability. The random module includes a more basic function randint(a, b) that returns a uniformly random integer from a to b (including both endpoints). Using only the randint function, implement your own version of the shuffle function:"
   ]
  },
  {
   "cell_type": "code",
   "execution_count": 11,
   "metadata": {},
   "outputs": [
    {
     "name": "stdout",
     "output_type": "stream",
     "text": [
      "[2, 4, 5, 6, 'Q', 'J', 7, 3, 9, 'K', 10, 1, 8]\n"
     ]
    }
   ],
   "source": [
    "import random\n",
    "def my_shuffle(data):\n",
    "    k = 0\n",
    "    v = 0\n",
    "    sdata = []\n",
    "    while data != []:                         #while input is not empty, label elements of list from 0 to len(list),\n",
    "        k = random.randint(0,len(data)-1)     #then pick a random number in that range and append the element \n",
    "        v = data[k]                           #corresponding to that element to a new list, and remove the same\n",
    "        sdata.append(v)                       #element from the input list. Repeat until input list is empty.\n",
    "        data = data[:k]+data[k+1:]\n",
    "    return(sdata)                             #return the new list\n",
    "        \n",
    "    \n",
    "deck = [1, 2, 3, 4, 5, 6, 7, 8, 9, 10, \"J\", \"Q\", \"K\"]\n",
    "deck = my_shuffle(deck)\n",
    "print(deck)"
   ]
  },
  {
   "cell_type": "markdown",
   "metadata": {},
   "source": [
    "## Question 4\n",
    "\n",
    "Give an example of a Python code fragment that attempts to write an element to a list based on an index that may be out of bounds. If that index is out of bounds, the program should catch the exception that results, and print the following error message:\n",
    "\n",
    "> Don’t try buffer overflow attacks in Python!"
   ]
  },
  {
   "cell_type": "code",
   "execution_count": 12,
   "metadata": {
    "scrolled": true
   },
   "outputs": [
    {
     "name": "stdout",
     "output_type": "stream",
     "text": [
      "Don’t try buffer overflow attacks in Python!\n"
     ]
    },
    {
     "data": {
      "text/plain": [
       "[0, 0, 0]"
      ]
     },
     "execution_count": 12,
     "metadata": {},
     "output_type": "execute_result"
    }
   ],
   "source": [
    "def kil(l,t):\n",
    "    for i in range(0,len(t)):\n",
    "        try:\n",
    "            l[i] = 0\n",
    "        except IndexError as message:   \n",
    "            print('Don’t try buffer overflow attacks in Python!')\n",
    "            break\n",
    "    return(l)\n",
    "\n",
    "kil([1,2,3], [5,4,3,2])"
   ]
  },
  {
   "cell_type": "code",
   "execution_count": null,
   "metadata": {},
   "outputs": [],
   "source": []
  },
  {
   "cell_type": "code",
   "execution_count": null,
   "metadata": {},
   "outputs": [],
   "source": []
  }
 ],
 "metadata": {
  "kernelspec": {
   "display_name": "Python 3 (ipykernel)",
   "language": "python",
   "name": "python3"
  },
  "language_info": {
   "codemirror_mode": {
    "name": "ipython",
    "version": 3
   },
   "file_extension": ".py",
   "mimetype": "text/x-python",
   "name": "python",
   "nbconvert_exporter": "python",
   "pygments_lexer": "ipython3",
   "version": "3.10.6"
  }
 },
 "nbformat": 4,
 "nbformat_minor": 1
}
