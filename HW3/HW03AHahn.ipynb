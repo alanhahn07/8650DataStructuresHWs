{
 "cells": [
  {
   "cell_type": "markdown",
   "metadata": {},
   "source": [
    "# Homework 03\n",
    "- read up on abstract data types (list, queue, stack, deque) on wikipedia\n",
    "- python tutorial chapter 5\n",
    "\n",
    "Please fill in: Alan Hahn"
   ]
  },
  {
   "cell_type": "markdown",
   "metadata": {},
   "source": [
    "## Introduction"
   ]
  },
  {
   "cell_type": "code",
   "execution_count": 31,
   "metadata": {},
   "outputs": [
    {
     "name": "stdout",
     "output_type": "stream",
     "text": [
      "[1, 2, 3, 4, 5]\n",
      "s before: [1, 2, 3, 4, 5]\n",
      "pop():  5\n",
      "s after: [1, 2, 3, 4]\n",
      "pop():  4\n",
      "s after: [1, 2, 3]\n",
      "pop(0):  1\n",
      "s finally: [2, 3]\n"
     ]
    }
   ],
   "source": [
    "# Using a Python list (array) and adding/removing elements \n",
    "s=[2,3,4]\n",
    "s.append(5)\n",
    "s.insert(0,1)\n",
    "print (s)\n",
    "print (\"s before:\",s)\n",
    "print (\"pop(): \", s.pop())\n",
    "print (\"s after:\", s)\n",
    "print (\"pop(): \", s.pop())\n",
    "print (\"s after:\", s)\n",
    "print (\"pop(0): \", s.pop(0))\n",
    "print (\"s finally:\", s)"
   ]
  },
  {
   "cell_type": "code",
   "execution_count": 32,
   "metadata": {},
   "outputs": [
    {
     "data": {
      "image/png": "[encoded data removed]",
      "text/plain": [
       "<Figure size 640x480 with 1 Axes>"
      ]
     },
     "metadata": {},
     "output_type": "display_data"
    }
   ],
   "source": [
    "# plotting works very similar to MATLAB\n",
    "%matplotlib inline\n",
    "import matplotlib.pyplot as plt\n",
    "x = [10, 50, 100, 150]\n",
    "y = [3, 5, 10, 22]\n",
    "\n",
    "plt.plot(x, y, 'o-')\n",
    "plt.show()"
   ]
  },
  {
   "cell_type": "code",
   "execution_count": 33,
   "metadata": {},
   "outputs": [
    {
     "name": "stdout",
     "output_type": "stream",
     "text": [
      "5 4 3\n",
      "True\n"
     ]
    }
   ],
   "source": [
    "# Implement a Stack:\n",
    "class MyStack:\n",
    "    \"\"\" simple stack implemented using a Python list (array)\"\"\"\n",
    "    def __init__(self):\n",
    "        self.data = []\n",
    "        \n",
    "    def push(self,x):\n",
    "        self.data.append(x)\n",
    "        \n",
    "    def pop(self):\n",
    "        return self.data.pop()\n",
    "    \n",
    "    def is_empty(self):\n",
    "        return len(self.data) == 0\n",
    "    \n",
    "s = MyStack()\n",
    "s.push(3)\n",
    "s.push(4)\n",
    "s.push(5)\n",
    "print (s.pop(), s.pop(), s.pop())\n",
    "print (s.is_empty())"
   ]
  },
  {
   "cell_type": "code",
   "execution_count": 36,
   "metadata": {},
   "outputs": [
    {
     "name": "stdout",
     "output_type": "stream",
     "text": [
      "3.84 ms ± 124 µs per loop (mean ± std. dev. of 7 runs, 100 loops each)\n",
      "7.59 ms ± 40 µs per loop (mean ± std. dev. of 7 runs, 100 loops each)\n",
      "15.4 ms ± 437 µs per loop (mean ± std. dev. of 7 runs, 100 loops each)\n",
      "32.3 ms ± 2.06 ms per loop (mean ± std. dev. of 7 runs, 10 loops each)\n",
      "64 ms ± 2.51 ms per loop (mean ± std. dev. of 7 runs, 10 loops each)\n",
      "131 ms ± 5.79 ms per loop (mean ± std. dev. of 7 runs, 10 loops each)\n"
     ]
    }
   ],
   "source": [
    "def stack_fill_and_empty(n):\n",
    "    S = MyStack()\n",
    "    for item in range(n):\n",
    "        S.push(item)\n",
    "        \n",
    "    while n>0:\n",
    "        S.pop()\n",
    "        n -= 1\n",
    "\n",
    "sizes = [10000, 20000, 40000, 80000, 160000, 320000]\n",
    "for n in sizes:\n",
    "    %timeit stack_fill_and_empty(n)"
   ]
  },
  {
   "cell_type": "code",
   "execution_count": 37,
   "metadata": {},
   "outputs": [],
   "source": [
    "import numpy as np\n",
    "def fit_poly(x,y,k):\n",
    "    n = len(x)\n",
    "    x = np.array(x)\n",
    "    y = np.array(y)\n",
    "    A = np.zeros((n,k+1))\n",
    "    for i in range(k+1):\n",
    "        A[:,i] = np.array(x)**i\n",
    "        \n",
    "    c = np.linalg.lstsq(A,y)[0]\n",
    "    misfit = np.linalg.norm(np.dot(A,c)-y)    \n",
    "    return c, misfit"
   ]
  },
  {
   "cell_type": "code",
   "execution_count": 38,
   "metadata": {},
   "outputs": [
    {
     "name": "stdout",
     "output_type": "stream",
     "text": [
      "coefficients: [ 1.67431614e-08  4.62187594e-04 -3.93178696e-10  7.12375037e-16]\n",
      "misfit: 1.0521325007490785\n"
     ]
    },
    {
     "name": "stderr",
     "output_type": "stream",
     "text": [
      "/var/folders/1d/qyh74b9d0jv5bsb_gg5785400000gn/T/ipykernel_52346/41701495.py:10: FutureWarning: `rcond` parameter will change to the default of machine precision times ``max(M, N)`` where M and N are the input matrix dimensions.\n",
      "To use the future default and silence this warning we advise to pass `rcond=None`, to keep using the old, explicitly pass `rcond=-1`.\n",
      "  c = np.linalg.lstsq(A,y)[0]\n"
     ]
    }
   ],
   "source": [
    "x = sizes\n",
    "y = [4.01, 8.66, 17.6, 35.5, 66.6, 131]    # Replace with times from timeit runs\n",
    "c, misfit = fit_poly(x, y, 3) # find a good coefficient!\n",
    "print (\"coefficients:\",c)\n",
    "print (\"misfit:\", misfit)"
   ]
  },
  {
   "cell_type": "code",
   "execution_count": 39,
   "metadata": {},
   "outputs": [
    {
     "data": {
      "image/png": "[encoded data removed]",
      "text/plain": [
       "<Figure size 640x480 with 1 Axes>"
      ]
     },
     "metadata": {},
     "output_type": "display_data"
    }
   ],
   "source": [
    "xx = np.linspace(0,x[-1],100)\n",
    "yy = xx * 0\n",
    "for idx,cc in enumerate(c):\n",
    "    yy = yy + cc*xx**idx\n",
    "\n",
    "plt.plot(x, y, 'o')\n",
    "plt.plot(xx, yy, 'r')\n",
    "plt.show()"
   ]
  },
  {
   "cell_type": "code",
   "execution_count": 40,
   "metadata": {},
   "outputs": [
    {
     "name": "stdout",
     "output_type": "stream",
     "text": [
      "best fitting polynomial: 0.0004248411774493428 x^ 0.9997313474781925\n"
     ]
    },
    {
     "name": "stderr",
     "output_type": "stream",
     "text": [
      "/var/folders/1d/qyh74b9d0jv5bsb_gg5785400000gn/T/ipykernel_52346/41701495.py:10: FutureWarning: `rcond` parameter will change to the default of machine precision times ``max(M, N)`` where M and N are the input matrix dimensions.\n",
      "To use the future default and silence this warning we advise to pass `rcond=None`, to keep using the old, explicitly pass `rcond=-1`.\n",
      "  c = np.linalg.lstsq(A,y)[0]\n"
     ]
    }
   ],
   "source": [
    "# alternatively fitting f(x)=c0 x^c1:\n",
    "c, misfit = fit_poly(np.log(x),np.log(y),1)\n",
    "print (\"best fitting polynomial:\",np.exp(c[0]),\"x^\",c[1])"
   ]
  },
  {
   "cell_type": "markdown",
   "metadata": {},
   "source": [
    "We can conclude that pushing n elements to the stack and removing them again takes O(n) time. This means each operation is O(1) (on average!) "
   ]
  },
  {
   "cell_type": "markdown",
   "metadata": {},
   "source": [
    "## 1. Test queue operations using a Python list\n",
    "We first use a Python list (array) as an (inefficient) queue. Our test consists of queueing n elements and then dequeueing all of them. Complete the code below, time for different n, create a fit of the right degree and conclude what the cost of queueing and dequeueing one element is. (We just want the naive implementation here, not the circular queue discussed in class. Just use appropriate append() and pop() calls.)"
   ]
  },
  {
   "cell_type": "code",
   "execution_count": 41,
   "metadata": {},
   "outputs": [
    {
     "name": "stdout",
     "output_type": "stream",
     "text": [
      "16 ms ± 79 µs per loop (mean ± std. dev. of 7 runs, 100 loops each)\n",
      "64.3 ms ± 80.6 µs per loop (mean ± std. dev. of 7 runs, 10 loops each)\n",
      "279 ms ± 10.9 ms per loop (mean ± std. dev. of 7 runs, 1 loop each)\n",
      "1.28 s ± 5.82 ms per loop (mean ± std. dev. of 7 runs, 1 loop each)\n",
      "5.32 s ± 12.1 ms per loop (mean ± std. dev. of 7 runs, 1 loop each)\n"
     ]
    }
   ],
   "source": [
    "def fill_and_empty_queue_using_list(n):\n",
    "    L = []\n",
    "    for item in range(n):\n",
    "        L.append(item)\n",
    "        # queue item in L (add to end):\n",
    "        \n",
    "    while n>0:\n",
    "        L.pop(0)\n",
    "        #L.pop\n",
    "        # dequeue item in L (remove from start):\n",
    "        n -= 1\n",
    "\n",
    "sizes = [10000,20000,40000,80000,160000]\n",
    "for n in sizes:\n",
    "    %timeit fill_and_empty_queue_using_list(n)"
   ]
  },
  {
   "cell_type": "code",
   "execution_count": 42,
   "metadata": {},
   "outputs": [
    {
     "name": "stderr",
     "output_type": "stream",
     "text": [
      "/var/folders/1d/qyh74b9d0jv5bsb_gg5785400000gn/T/ipykernel_52346/41701495.py:10: FutureWarning: `rcond` parameter will change to the default of machine precision times ``max(M, N)`` where M and N are the input matrix dimensions.\n",
      "To use the future default and silence this warning we advise to pass `rcond=None`, to keep using the old, explicitly pass `rcond=-1`.\n",
      "  c = np.linalg.lstsq(A,y)[0]\n"
     ]
    },
    {
     "name": "stdout",
     "output_type": "stream",
     "text": [
      "coefficients: [-1.72392157e-02  6.96907021e-07  2.12409235e-10]\n",
      "misfit: 0.024602914006456762\n"
     ]
    },
    {
     "data": {
      "image/png": "[encoded data removed]",
      "text/plain": [
       "<Figure size 640x480 with 1 Axes>"
      ]
     },
     "metadata": {},
     "output_type": "display_data"
    }
   ],
   "source": [
    "x = sizes\n",
    "y = [.0232, .0758, .334, 1.41, 5.53] # fill with timieit results\n",
    "c, misfit = fit_poly(x,y,2)\n",
    "print (\"coefficients:\",c )\n",
    "print (\"misfit:\", misfit)\n",
    "\n",
    "xx = np.linspace(0,x[-1],100)\n",
    "yy = xx * 0\n",
    "for idx,cc in enumerate(c):\n",
    "    yy = yy + cc*xx**idx\n",
    "\n",
    "plt.plot(x, y, 'o')\n",
    "plt.plot(xx, yy, 'r')\n",
    "plt.show()"
   ]
  },
  {
   "cell_type": "code",
   "execution_count": 43,
   "metadata": {},
   "outputs": [
    {
     "name": "stdout",
     "output_type": "stream",
     "text": [
      "best fitting polynomial: 2.1028807564680433e-10 x^ 2.0011375233766127\n"
     ]
    },
    {
     "name": "stderr",
     "output_type": "stream",
     "text": [
      "/var/folders/1d/qyh74b9d0jv5bsb_gg5785400000gn/T/ipykernel_52346/41701495.py:10: FutureWarning: `rcond` parameter will change to the default of machine precision times ``max(M, N)`` where M and N are the input matrix dimensions.\n",
      "To use the future default and silence this warning we advise to pass `rcond=None`, to keep using the old, explicitly pass `rcond=-1`.\n",
      "  c = np.linalg.lstsq(A,y)[0]\n"
     ]
    }
   ],
   "source": [
    "c, misfit = fit_poly(np.log(x),np.log(y),1)\n",
    "print (\"best fitting polynomial:\",np.exp(c[0]),\"x^\",c[1])"
   ]
  },
  {
   "cell_type": "markdown",
   "metadata": {},
   "source": [
    "fill_and_empty_queue_using_list(n) takes O(n^2). To conclude:\n",
    "1. enqueue one element (append to a list) takes O(1)\n",
    "2. dequeuing one element (remove from the left) takes O(n)\n",
    "3. while removing the last element takes O(n)."
   ]
  },
  {
   "cell_type": "markdown",
   "metadata": {},
   "source": [
    "## 2. Using a deque\n",
    "A _deque_ (pronounced \"deck\") or _double-ended queue_ permits both pushes and pops at both the left and right ends of the list.\n",
    "\n",
    "First determine the correct functions to call to enqueue (add to the right) and dequeue (pop from the left) an element from a deque. Try it out in the next block (it should print 1, then 2, then 3).\n",
    "Then complete dequeue_fill_and_empty() with those commands, benchmark it, fit a curve, and conclude."
   ]
  },
  {
   "cell_type": "code",
   "execution_count": 44,
   "metadata": {},
   "outputs": [
    {
     "name": "stdout",
     "output_type": "stream",
     "text": [
      "1\n",
      "2\n",
      "3\n"
     ]
    }
   ],
   "source": [
    "from collections import deque\n",
    "Q = deque()\n",
    "Q.append(1) # enqueue 1\n",
    "Q.append(2) # enqueue 2\n",
    "Q.append(3) # enqueue 3\n",
    "print (Q.popleft()) # dequeue and print\n",
    "print (Q.popleft()) # dequeue and print\n",
    "print (Q.popleft()) # dequeue and print"
   ]
  },
  {
   "cell_type": "code",
   "execution_count": 45,
   "metadata": {},
   "outputs": [
    {
     "name": "stdout",
     "output_type": "stream",
     "text": [
      "1.64 ms ± 18.6 µs per loop (mean ± std. dev. of 7 runs, 1,000 loops each)\n",
      "3.4 ms ± 164 µs per loop (mean ± std. dev. of 7 runs, 100 loops each)\n",
      "6.53 ms ± 39.4 µs per loop (mean ± std. dev. of 7 runs, 100 loops each)\n",
      "13.3 ms ± 145 µs per loop (mean ± std. dev. of 7 runs, 100 loops each)\n",
      "27 ms ± 114 µs per loop (mean ± std. dev. of 7 runs, 10 loops each)\n"
     ]
    }
   ],
   "source": [
    "def dequeue_fill_and_empty(n):\n",
    "    L = deque()\n",
    "    for item in range(n):\n",
    "        L.append(item) # enqueue\n",
    "        \n",
    "    while n>0:\n",
    "        L.popleft() # now dequeue\n",
    "        n -= 1\n",
    "\n",
    "sizes = [10000,20000,40000,80000,160000]\n",
    "for n in sizes:\n",
    "    %timeit dequeue_fill_and_empty(n)"
   ]
  },
  {
   "cell_type": "code",
   "execution_count": 46,
   "metadata": {},
   "outputs": [
    {
     "name": "stdout",
     "output_type": "stream",
     "text": [
      "coefficients: [-6.53408683e-04  6.39396069e-07 -8.16239468e-13  3.81927156e-18]\n",
      "misfit: 0.0003055411902347575\n"
     ]
    },
    {
     "name": "stderr",
     "output_type": "stream",
     "text": [
      "/var/folders/1d/qyh74b9d0jv5bsb_gg5785400000gn/T/ipykernel_52346/41701495.py:10: FutureWarning: `rcond` parameter will change to the default of machine precision times ``max(M, N)`` where M and N are the input matrix dimensions.\n",
      "To use the future default and silence this warning we advise to pass `rcond=None`, to keep using the old, explicitly pass `rcond=-1`.\n",
      "  c = np.linalg.lstsq(A,y)[0]\n"
     ]
    },
    {
     "data": {
      "image/png": "[encoded data removed]",
      "text/plain": [
       "<Figure size 640x480 with 1 Axes>"
      ]
     },
     "metadata": {},
     "output_type": "display_data"
    }
   ],
   "source": [
    "x = sizes\n",
    "y = [.00579,.0116,.024,.0472,.0964] # fill\n",
    "c, misfit = fit_poly(x,y,3)\n",
    "print (\"coefficients:\",c)\n",
    "print (\"misfit:\", misfit)\n",
    "\n",
    "xx = np.linspace(0,x[-1],100)\n",
    "yy = xx * 0\n",
    "for idx,cc in enumerate(c):\n",
    "    yy = yy + cc*xx**idx\n",
    "\n",
    "plt.plot(x, y, 'o')\n",
    "plt.plot(xx, yy, 'r')\n",
    "plt.show()"
   ]
  },
  {
   "cell_type": "markdown",
   "metadata": {},
   "source": [
    "Filling and emptying a queue (n elements) based on Python's deque takes: O(n). Therefore, a single enqueue() or dequeue() takes: O(1). Read up on wikipedia on \"deque\" an state the cost for the operations for:\n",
    "1. add element on left: O(1)\n",
    "2. add element on right: O(1)\n",
    "3. remove element on left: O(1)\n",
    "4. remove element on right: O(1)\n",
    "\n",
    "Is that what you see? Yes"
   ]
  },
  {
   "cell_type": "markdown",
   "metadata": {
    "collapsed": true
   },
   "source": [
    "## Question 3: Now implement a deque using a doubly-linked list\n",
    "Complete the implementation, make sure the tests work, and finally time the operations."
   ]
  },
  {
   "cell_type": "code",
   "execution_count": 47,
   "metadata": {},
   "outputs": [
    {
     "name": "stdout",
     "output_type": "stream",
     "text": [
      "[[\n",
      "0\n",
      "1\n",
      "2\n",
      "3\n",
      "4\n",
      "]]\n",
      "pop_left: 0\n",
      "pop_right: 4\n",
      "[[\n",
      "1\n",
      "2\n",
      "3\n",
      "]]\n",
      "pop_left: 1\n",
      "[[\n",
      "2\n",
      "3\n",
      "]]\n",
      "pop_left: 2\n",
      "pop_right: 3\n",
      "[[\n",
      "]]\n",
      "pop_left: None\n",
      "pop_right: None\n"
     ]
    }
   ],
   "source": [
    "class MyDeque:\n",
    "    \"\"\" a double-ended queue implemented using a linked list\"\"\"\n",
    " \n",
    "    class ListItem:\n",
    "        \"\"\" an item in a doubly-linked list\"\"\"\n",
    "        def __init__(self, x, prev, next):\n",
    "            self.item = x\n",
    "            self.prev = prev\n",
    "            self.next = next\n",
    "\n",
    "    def __init__(self):\n",
    "        self.head = None\n",
    "        self.tail = None\n",
    "        \n",
    "    def push_right(self, x):\n",
    "        if self.head == None:\n",
    "            self.head = MyDeque.ListItem(x,None, None)\n",
    "            self.tail = self.head\n",
    "        else:\n",
    "            n = MyDeque.ListItem(x, self.tail, None)\n",
    "            self.tail.next = n\n",
    "            self.tail = n\n",
    "            \n",
    "    def push_left(self, x):\n",
    "        if self.head == None:\n",
    "            self.head = MyDeque.ListItem(x,None, None)\n",
    "            self.tail = self.head\n",
    "        else:\n",
    "            n = MyDeque.ListItem(x, None, self.head)\n",
    "            self.head.prev = n\n",
    "            self.head = n\n",
    "   \n",
    "    def pop_left(self):\n",
    "        if self.head == None:\n",
    "            return None\n",
    "        item = self.head.item\n",
    "        if self.head.next == None:\n",
    "            self.head = None\n",
    "            self.tail = None\n",
    "        else:\n",
    "            newhead = self.head.next\n",
    "            newhead.prev = None\n",
    "            self.head = newhead\n",
    "        return item\n",
    "    \n",
    "    def pop_right(self):\n",
    "        if self.head == None:\n",
    "            return None\n",
    "        item = self.tail.item\n",
    "        if self.head.next == None:\n",
    "            self.head = None\n",
    "            self.tail = None\n",
    "        else:\n",
    "            newtail = self.tail.prev\n",
    "            newtail.next = None\n",
    "            self.tail = newtail\n",
    "        return item\n",
    "    \n",
    "    def print_it(self):\n",
    "        it = self.head\n",
    "        print(\"[[\")#, end=\"\")\n",
    "        while it != None:\n",
    "            print(it.item)#, end=\" \")\n",
    "            it = it.next\n",
    "        print (\"]]\")\n",
    "\n",
    "Q = MyDeque()\n",
    "Q.push_right(1)\n",
    "Q.push_right(2)\n",
    "Q.push_right(3)\n",
    "Q.push_left(0)\n",
    "Q.push_right(4)\n",
    "Q.print_it()\n",
    "print (\"pop_left:\", Q.pop_left())\n",
    "print (\"pop_right:\", Q.pop_right())\n",
    "Q.print_it()\n",
    "print (\"pop_left:\", Q.pop_left())\n",
    "Q.print_it()\n",
    "print (\"pop_left:\", Q.pop_left())\n",
    "print (\"pop_right:\", Q.pop_right())\n",
    "Q.print_it()\n",
    "print (\"pop_left:\", Q.pop_left())\n",
    "print (\"pop_right:\", Q.pop_right())"
   ]
  },
  {
   "cell_type": "code",
   "execution_count": 29,
   "metadata": {},
   "outputs": [
    {
     "name": "stdout",
     "output_type": "stream",
     "text": [
      "[[\n",
      "0\n",
      "1\n",
      "2\n",
      "3\n",
      "4\n",
      "]]\n",
      "[[\n",
      "4\n",
      "3\n",
      "2\n",
      "1\n",
      "0\n",
      "]]\n",
      "[[\n",
      "0\n",
      "1\n",
      "2\n",
      "3\n",
      "4\n",
      "]]\n",
      "[[\n",
      "4\n",
      "3\n",
      "2\n",
      "1\n",
      "0\n",
      "]]\n",
      "ok\n"
     ]
    }
   ],
   "source": [
    "# some more tests:\n",
    "\n",
    "Q = MyDeque()\n",
    "Q.push_left(1)\n",
    "Q.push_right(2)\n",
    "assert(Q.head.item == 1)\n",
    "assert(Q.tail.item == 2)\n",
    "assert(Q.head.next == Q.tail)\n",
    "assert(Q.head.prev == None)\n",
    "assert(Q.tail.prev == Q.head)\n",
    "assert(Q.pop_right()==2)\n",
    "assert(Q.head.item == 1)\n",
    "assert(Q.head == Q.tail)\n",
    "assert(Q.head.prev == None)\n",
    "assert(Q.head.next == None)\n",
    "assert(Q.pop_right()==1)\n",
    "assert(Q.head == None)\n",
    "assert(Q.tail == None)\n",
    "\n",
    "for n in range(5):\n",
    "    Q.push_right(n)\n",
    "Q.print_it()    \n",
    "for n in range(5):\n",
    "    assert(Q.pop_left()==n)\n",
    "assert(Q.pop_left()==None) \n",
    "\n",
    "for n in range(5):\n",
    "    Q.push_left(n)\n",
    "Q.print_it()\n",
    "for n in range(5):\n",
    "    assert(Q.pop_right()==n)\n",
    "assert(Q.pop_right()==None)\n",
    "\n",
    "for n in range(5):\n",
    "    Q.push_right(n)\n",
    "Q.print_it()\n",
    "for n in range(5):\n",
    "    assert(Q.pop_right()==4-n)\n",
    "    \n",
    "for n in range(5):\n",
    "    Q.push_left(n)\n",
    "Q.print_it()\n",
    "for n in range(5):\n",
    "    assert(Q.pop_left()==4-n)\n",
    "\n",
    "print (\"ok\")"
   ]
  },
  {
   "cell_type": "code",
   "execution_count": 48,
   "metadata": {},
   "outputs": [
    {
     "name": "stdout",
     "output_type": "stream",
     "text": [
      "22.5 ms ± 296 µs per loop (mean ± std. dev. of 7 runs, 10 loops each)\n",
      "53.4 ms ± 1.06 ms per loop (mean ± std. dev. of 7 runs, 10 loops each)\n",
      "96.3 ms ± 6.88 ms per loop (mean ± std. dev. of 7 runs, 10 loops each)\n",
      "199 ms ± 17.1 ms per loop (mean ± std. dev. of 7 runs, 10 loops each)\n",
      "419 ms ± 34.3 ms per loop (mean ± std. dev. of 7 runs, 1 loop each)\n"
     ]
    }
   ],
   "source": [
    "def test_our_deque(n):\n",
    "    Q = MyDeque()\n",
    "    for idx in range(n):\n",
    "        Q.push_right(n)\n",
    "        Q.push_left(n)\n",
    "        \n",
    "    for idx in range(n):\n",
    "        Q.pop_left()\n",
    "        Q.pop_right()\n",
    "\n",
    "sizes = [10000, 20000, 40000, 80000, 160000]\n",
    "for n in sizes:\n",
    "    %timeit test_our_deque(n)"
   ]
  },
  {
   "cell_type": "markdown",
   "metadata": {},
   "source": [
    "test_our_deque() takes: O(n). Therefore, all operations take O(1) as expected!"
   ]
  },
  {
   "cell_type": "code",
   "execution_count": null,
   "metadata": {},
   "outputs": [],
   "source": []
  }
 ],
 "metadata": {
  "kernelspec": {
   "display_name": "Python 3 (ipykernel)",
   "language": "python",
   "name": "python3"
  },
  "language_info": {
   "codemirror_mode": {
    "name": "ipython",
    "version": 3
   },
   "file_extension": ".py",
   "mimetype": "text/x-python",
   "name": "python",
   "nbconvert_exporter": "python",
   "pygments_lexer": "ipython3",
   "version": "3.10.6"
  },
  "name": "HW04.ipynb"
 },
 "nbformat": 4,
 "nbformat_minor": 1
}
