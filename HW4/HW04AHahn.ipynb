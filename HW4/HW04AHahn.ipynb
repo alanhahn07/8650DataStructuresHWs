{
 "cells": [
  {
   "cell_type": "markdown",
   "metadata": {},
   "source": [
    "# HW04 - Exploring Trees/Graphs\n",
    "\n",
    "YOUR NAME: Alan Hahn"
   ]
  },
  {
   "cell_type": "markdown",
   "metadata": {},
   "source": [
    "Some facts about trees:\n",
    "+ A tree is connected and contains no cycles (by definition).\n",
    "+ A tree with *n* nodes has *n* - 1 edges.\n",
    "+ Every node in a tree except the root has a single parent.\n",
    "+ In a tree, there is a unique path between every pair of nodes. In particular, there is a unique path of ancestors from every node to the root.\n",
    "\n",
    "In this exercise, we use Python dictionaries to represent trees, rather than constructing the linked structures explicitly. Each dictionary entry maps a parent node to a list of its children."
   ]
  },
  {
   "cell_type": "code",
   "execution_count": 1,
   "metadata": {},
   "outputs": [
    {
     "name": "stdout",
     "output_type": "stream",
     "text": [
      "set()\n",
      "{'x', 'y'}\n",
      "{'x', 'z'}\n",
      "{'z'}\n",
      "False\n"
     ]
    }
   ],
   "source": [
    "k = set()\n",
    "print(k)\n",
    "k.add('x')\n",
    "k.add('y')\n",
    "t = set()\n",
    "t.add('z')\n",
    "t.add('x')\n",
    "k.add('x')\n",
    "\n",
    "#k.remove('y')\n",
    "print(k)\n",
    "print(t)\n",
    "print(t-k)\n",
    "print(t-k == set())"
   ]
  },
  {
   "cell_type": "code",
   "execution_count": 2,
   "metadata": {},
   "outputs": [
    {
     "name": "stdout",
     "output_type": "stream",
     "text": [
      "T has 25 edges\n",
      "T has 26 vertices\n"
     ]
    }
   ],
   "source": [
    "# here is a list of edges (parent, child):\n",
    "T = [('Bob','Eve'),('Alice','Carol'),('Eve','Frank'),('Alice','Doug'),('Frank','Ginger'), \\\n",
    "         ('Eve','Howard'),('Carol','Irene'),('Frank','Jeff'),('Doug','Kathy'),('Bob','Luis'), \\\n",
    "         ('Alice','Bob'),('Bob','Mabel'),('Ginger','Norm'),('Howard','Oprah'),('Carol','Peter'), \\\n",
    "         ('Kathy','Queen'),('Mabel','Ursala'),('Luis','Ronald'),('Ginger','Sarah'),('Irene','Tom'), \\\n",
    "         ('Jeff','Vince'),('Peter','Wanda'),('Oprah','Xanthia'),('Norm','Yaakov'),('Luis','Zandra')]\n",
    "\n",
    "print ('T has',len(T),'edges')\n",
    "vertices = set()\n",
    "for edge in T:\n",
    "    s,t = edge\n",
    "    vertices.add(s)\n",
    "    vertices.add(t)\n",
    "print ('T has',len(vertices),'vertices')"
   ]
  },
  {
   "cell_type": "markdown",
   "metadata": {},
   "source": [
    "So this could be a tree. Now lets compute the number of parents for each vertex. The result confirms that we indeed have a tree and that the root is Alice (right?)."
   ]
  },
  {
   "cell_type": "code",
   "execution_count": 3,
   "metadata": {},
   "outputs": [
    {
     "name": "stdout",
     "output_type": "stream",
     "text": [
      "{'Peter': 1, 'Frank': 1, 'Oprah': 1, 'Doug': 1, 'Ginger': 1, 'Wanda': 1, 'Ronald': 1, 'Carol': 1, 'Norm': 1, 'Irene': 1, 'Vince': 1, 'Sarah': 1, 'Bob': 1, 'Kathy': 1, 'Xanthia': 1, 'Mabel': 1, 'Eve': 1, 'Luis': 1, 'Howard': 1, 'Jeff': 1, 'Zandra': 1, 'Ursala': 1, 'Tom': 1, 'Yaakov': 1, 'Alice': 0, 'Queen': 1}\n"
     ]
    }
   ],
   "source": [
    "np = {}\n",
    "for v in vertices:\n",
    "    np[v] = 0\n",
    "for parent,child in T:\n",
    "    np[child] += 1\n",
    "print (np)"
   ]
  },
  {
   "cell_type": "markdown",
   "metadata": {},
   "source": [
    "We now construct a dictionary of pairs (p,c) where p is the parent of the list of children c"
   ]
  },
  {
   "cell_type": "code",
   "execution_count": 4,
   "metadata": {},
   "outputs": [
    {
     "name": "stdout",
     "output_type": "stream",
     "text": [
      "node and children:\n",
      "Peter : ['Wanda']\n",
      "Frank : ['Ginger', 'Jeff']\n",
      "Oprah : ['Xanthia']\n",
      "Doug : ['Kathy']\n",
      "Ginger : ['Norm', 'Sarah']\n",
      "Wanda : []\n",
      "Ronald : []\n",
      "Carol : ['Irene', 'Peter']\n",
      "Norm : ['Yaakov']\n",
      "Irene : ['Tom']\n",
      "Vince : []\n",
      "Sarah : []\n",
      "Bob : ['Eve', 'Luis', 'Mabel']\n",
      "Kathy : ['Queen']\n",
      "Xanthia : []\n",
      "Mabel : ['Ursala']\n",
      "Eve : ['Frank', 'Howard']\n",
      "Luis : ['Ronald', 'Zandra']\n",
      "Howard : ['Oprah']\n",
      "Jeff : ['Vince']\n",
      "Zandra : []\n",
      "Ursala : []\n",
      "Tom : []\n",
      "Yaakov : []\n",
      "Alice : ['Carol', 'Doug', 'Bob']\n",
      "Queen : []\n",
      "\n",
      "{'Peter': ['Wanda'], 'Frank': ['Ginger', 'Jeff'], 'Oprah': ['Xanthia'], 'Doug': ['Kathy'], 'Ginger': ['Norm', 'Sarah'], 'Wanda': [], 'Ronald': [], 'Carol': ['Irene', 'Peter'], 'Norm': ['Yaakov'], 'Irene': ['Tom'], 'Vince': [], 'Sarah': [], 'Bob': ['Eve', 'Luis', 'Mabel'], 'Kathy': ['Queen'], 'Xanthia': [], 'Mabel': ['Ursala'], 'Eve': ['Frank', 'Howard'], 'Luis': ['Ronald', 'Zandra'], 'Howard': ['Oprah'], 'Jeff': ['Vince'], 'Zandra': [], 'Ursala': [], 'Tom': [], 'Yaakov': [], 'Alice': ['Carol', 'Doug', 'Bob'], 'Queen': []}\n"
     ]
    }
   ],
   "source": [
    "adjacency_map = {}\n",
    "for v in vertices:\n",
    "    adjacency_map[v] = []\n",
    "for p,c in T:\n",
    "    adjacency_map[p].append(c)\n",
    "\n",
    "print (\"node and children:\")\n",
    "for p in adjacency_map:\n",
    "    print (p, \":\", adjacency_map[p])\n",
    "\n",
    "print ()\n",
    "print (adjacency_map)"
   ]
  },
  {
   "cell_type": "code",
   "execution_count": 6,
   "metadata": {},
   "outputs": [
    {
     "name": "stdout",
     "output_type": "stream",
     "text": [
      "Hello!Hello!Hello!Hello!Hello!\n"
     ]
    }
   ],
   "source": [
    "# Example of string replication\n",
    "\n",
    "print (5*\"Hello!\")"
   ]
  },
  {
   "cell_type": "code",
   "execution_count": 7,
   "metadata": {},
   "outputs": [
    {
     "name": "stdout",
     "output_type": "stream",
     "text": [
      "Alice\n",
      "| Carol\n",
      "| | Irene\n",
      "| | | Tom\n",
      "| | Peter\n",
      "| | | Wanda\n",
      "| Doug\n",
      "| | Kathy\n",
      "| | | Queen\n",
      "| Bob\n",
      "| | Eve\n",
      "| | | Frank\n",
      "| | | | Ginger\n",
      "| | | | | Norm\n",
      "| | | | | | Yaakov\n",
      "| | | | | Sarah\n",
      "| | | | Jeff\n",
      "| | | | | Vince\n",
      "| | | Howard\n",
      "| | | | Oprah\n",
      "| | | | | Xanthia\n",
      "| | Luis\n",
      "| | | Ronald\n",
      "| | | Zandra\n",
      "| | Mabel\n",
      "| | | Ursala\n"
     ]
    }
   ],
   "source": [
    "# A recursive Depth-First traversal of a tree defined by an adjacency_map\n",
    "def print_tree_depth_first(parent, adjacency_map, level=0):\n",
    "    print (level*'| '+ str(parent))\n",
    "    children = adjacency_map[parent]\n",
    "    for child in children:\n",
    "        print_tree_depth_first(child, adjacency_map, level+1)\n",
    "\n",
    "root = 'Alice'\n",
    "print_tree_depth_first(root, adjacency_map)"
   ]
  },
  {
   "cell_type": "markdown",
   "metadata": {
    "collapsed": true
   },
   "source": [
    "## Question 1\n",
    "Extend the following breadth-first traversal function to include the generation, so that the output is like below. Do this by storing a tuple with generation and node in the queue."
   ]
  },
  {
   "cell_type": "raw",
   "metadata": {},
   "source": [
    "1: Alice\n",
    "2: Carol Doug Bob\n",
    "3: ..."
   ]
  },
  {
   "cell_type": "code",
   "execution_count": 8,
   "metadata": {},
   "outputs": [
    {
     "name": "stdout",
     "output_type": "stream",
     "text": [
      "Alice 0\n",
      "Carol 1\n",
      "Doug 1\n",
      "Bob 1\n",
      "Irene 2\n",
      "Peter 2\n",
      "Kathy 2\n",
      "Eve 2\n",
      "Luis 2\n",
      "Mabel 2\n",
      "Tom 3\n",
      "Wanda 3\n",
      "Queen 3\n",
      "Frank 3\n",
      "Howard 3\n",
      "Ronald 3\n",
      "Zandra 3\n",
      "Ursala 3\n",
      "Ginger 4\n",
      "Jeff 4\n",
      "Oprah 4\n",
      "Norm 5\n",
      "Sarah 5\n",
      "Vince 5\n",
      "Xanthia 5\n",
      "Yaakov 6\n"
     ]
    }
   ],
   "source": [
    "from collections import deque \n",
    "\n",
    "# breadth-first traversal using a queue\n",
    "def print_tree_breath_first(root, adjacency_map):\n",
    "    Q = deque()\n",
    "    Q.append((root,0))\n",
    "    i = 0\n",
    "    while len(Q)>0:\n",
    "        (p,i) = Q.popleft()\n",
    "        print(p,i) \n",
    "        children = adjacency_map[p]\n",
    "        for child in children:\n",
    "            Q.append((child,i+1))\n",
    "\n",
    "print_tree_breath_first(\"Alice\", adjacency_map)"
   ]
  },
  {
   "cell_type": "markdown",
   "metadata": {},
   "source": [
    "## Question 2\n",
    "Write a function that checks if for the given directed graph (given by a list of edges E) root is connected to every other vertex."
   ]
  },
  {
   "cell_type": "code",
   "execution_count": 9,
   "metadata": {},
   "outputs": [],
   "source": [
    "def all_connected_to(edge_list, root):\n",
    "    \"\"\" return true if you can reach all nodes in the graph given\n",
    "    by a list of edges (edge_list) can be reached by root \"\"\"\n",
    "    \n",
    "    vertices = set()\n",
    "    for edge in edge_list:\n",
    "        s,t = edge\n",
    "        vertices.add(s)\n",
    "        vertices.add(t)\n",
    "    \n",
    "    adjacency_map = {}\n",
    "    for v in vertices:\n",
    "        adjacency_map[v] = []\n",
    "    for p,c in edge_list:\n",
    "        adjacency_map[p].append(c)   \n",
    "        \n",
    "    s = set()\n",
    "    Q = deque()\n",
    "    Q.append(root)\n",
    "    while len(Q)>0:                  #find all vertices that may be reached by the input vertex\n",
    "        i = Q.popleft()              #along directed edges, and keep a set containing all of the vertices\n",
    "        s.add(i)                     #seen. Return whether this set equals the set of vertices of the graph \n",
    "        children = adjacency_map[i]\n",
    "        for child in children:\n",
    "            if child not in s:\n",
    "                Q.append(child)\n",
    "            \n",
    "    # start by constructing set of vertices and a dictionary for looking up children\n",
    "    \n",
    "    #print 's =', s, 'v = ', vertices\n",
    "    return (vertices == s)\n",
    "\n",
    "# This function runs in time O(n^2)\n",
    "# popping and appending from deque takes O(1) time, adding to a set takes O(1) time. For each vertex,\n",
    "#we check to see if the vertex is in a set, which takes O(n) time, so over all vertices is O(n^2). So the\n",
    "#order is O(n^2)\n",
    "    "
   ]
  },
  {
   "cell_type": "code",
   "execution_count": 10,
   "metadata": {},
   "outputs": [
    {
     "name": "stdout",
     "output_type": "stream",
     "text": [
      "True\n",
      "False\n",
      "False\n",
      "True\n",
      "True\n"
     ]
    }
   ],
   "source": [
    "G = [(\"A\",\"B\"), (\"B\",\"C\")]\n",
    "print (all_connected_to(G, \"A\"))\n",
    "G2 = [(\"1\",\"2\"), (\"A\",\"B\"), (\"B\",\"C\"), (\"C\",\"A\")]\n",
    "print (all_connected_to(G2, \"A\"))\n",
    "print (all_connected_to(G2, \"1\"))\n",
    "G3 = [(\"A\",\"B\"), (\"B\",\"C\"), (\"C\",\"A\")]\n",
    "print (all_connected_to(G3, \"C\"))\n",
    " #and our graph from above?\n",
    "print (all_connected_to(T, \"Alice\"))"
   ]
  },
  {
   "cell_type": "markdown",
   "metadata": {},
   "source": [
    "## Question 3\n",
    "We now treat the graph T from above as undirected (edges going in both directions) and construct a tree rooted in Bob. The tree will contain edges from a vertex to the parent and direct children. The result will tell us how far removed the vertices are from our root Bob."
   ]
  },
  {
   "cell_type": "code",
   "execution_count": 12,
   "metadata": {
    "scrolled": true
   },
   "outputs": [
    {
     "name": "stdout",
     "output_type": "stream",
     "text": [
      "parents/children of Ginger: ['Frank', 'Norm', 'Sarah']\n",
      "{'Peter': ['Carol', 'Wanda'], 'Frank': ['Eve', 'Ginger', 'Jeff'], 'Oprah': ['Howard', 'Xanthia'], 'Doug': ['Alice', 'Kathy'], 'Ginger': ['Frank', 'Norm', 'Sarah'], 'Wanda': ['Peter'], 'Ronald': ['Luis'], 'Carol': ['Alice', 'Irene', 'Peter'], 'Norm': ['Ginger', 'Yaakov'], 'Irene': ['Carol', 'Tom'], 'Vince': ['Jeff'], 'Sarah': ['Ginger'], 'Bob': ['Eve', 'Luis', 'Alice', 'Mabel'], 'Kathy': ['Doug', 'Queen'], 'Xanthia': ['Oprah'], 'Mabel': ['Bob', 'Ursala'], 'Eve': ['Bob', 'Frank', 'Howard'], 'Luis': ['Bob', 'Ronald', 'Zandra'], 'Howard': ['Eve', 'Oprah'], 'Jeff': ['Frank', 'Vince'], 'Zandra': ['Luis'], 'Ursala': ['Mabel'], 'Tom': ['Irene'], 'Yaakov': ['Norm'], 'Alice': ['Carol', 'Doug', 'Bob'], 'Queen': ['Kathy']}\n",
      "{'Peter': ['Wanda'], 'Frank': ['Ginger', 'Jeff'], 'Oprah': ['Xanthia'], 'Doug': ['Kathy'], 'Ginger': ['Norm', 'Sarah'], 'Wanda': [], 'Ronald': [], 'Carol': ['Irene', 'Peter'], 'Norm': ['Yaakov'], 'Irene': ['Tom'], 'Vince': [], 'Sarah': [], 'Bob': ['Eve', 'Luis', 'Alice', 'Mabel'], 'Kathy': ['Queen'], 'Xanthia': [], 'Mabel': ['Ursala'], 'Eve': ['Frank', 'Howard'], 'Luis': ['Ronald', 'Zandra'], 'Howard': ['Oprah'], 'Jeff': ['Vince'], 'Zandra': [], 'Ursala': [], 'Tom': [], 'Yaakov': [], 'Alice': ['Carol', 'Doug'], 'Queen': []}\n"
     ]
    }
   ],
   "source": [
    "root = 'Bob'\n",
    "\n",
    "# construct adjacency for graph T:\n",
    "adjacency_map = {}\n",
    "for vertex in vertices:\n",
    "    adjacency_map[vertex] = []\n",
    "for edge in T:\n",
    "    s,t = edge\n",
    "    adjacency_map[s].append(t)\n",
    "    adjacency_map[t].append(s)\n",
    "    \n",
    "print (\"parents/children of Ginger:\",adjacency_map['Ginger'])\n",
    "print\n",
    "print (adjacency_map)\n",
    "\n",
    "# now create tree as a dictionary \"n maps to children(n)\"\n",
    "print\n",
    "\n",
    "\n",
    "            \n",
    "tree = {}       \n",
    "s = set()\n",
    "Q = deque()\n",
    "Q.append(root)\n",
    "for v in vertices:\n",
    "    tree[v] = []\n",
    "while len(Q)>0:                        #for a given vertex, add all children of the vertex to the new \n",
    "    p = Q.popleft()                    #adjacency map called tree, but only add vertices if you haven't\n",
    "    s.add(p)                           #already seen them before, as if you've seen them before, they are\n",
    "    children = adjacency_map[p]        #the parent and not a child. \n",
    "    for child in children:\n",
    "        if child not in s:\n",
    "            Q.append(child)\n",
    "            tree[p].append(child)           \n",
    "            \n",
    "            \n",
    "print\n",
    "print (tree)\n"
   ]
  },
  {
   "cell_type": "markdown",
   "metadata": {},
   "source": [
    "Execute the following two blocks to check your result:"
   ]
  },
  {
   "cell_type": "code",
   "execution_count": 13,
   "metadata": {},
   "outputs": [
    {
     "name": "stdout",
     "output_type": "stream",
     "text": [
      "Bob\n",
      "| Eve\n",
      "| | Frank\n",
      "| | | Ginger\n",
      "| | | | Norm\n",
      "| | | | | Yaakov\n",
      "| | | | Sarah\n",
      "| | | Jeff\n",
      "| | | | Vince\n",
      "| | Howard\n",
      "| | | Oprah\n",
      "| | | | Xanthia\n",
      "| Luis\n",
      "| | Ronald\n",
      "| | Zandra\n",
      "| Alice\n",
      "| | Carol\n",
      "| | | Irene\n",
      "| | | | Tom\n",
      "| | | Peter\n",
      "| | | | Wanda\n",
      "| | Doug\n",
      "| | | Kathy\n",
      "| | | | Queen\n",
      "| Mabel\n",
      "| | Ursala\n"
     ]
    }
   ],
   "source": [
    "print_tree_depth_first(root, tree)"
   ]
  },
  {
   "cell_type": "code",
   "execution_count": 17,
   "metadata": {},
   "outputs": [
    {
     "name": "stdout",
     "output_type": "stream",
     "text": [
      "Bob 0\n",
      "Eve 1\n",
      "Luis 1\n",
      "Alice 1\n",
      "Mabel 1\n",
      "Frank 2\n",
      "Howard 2\n",
      "Ronald 2\n",
      "Zandra 2\n",
      "Carol 2\n",
      "Doug 2\n",
      "Ursala 2\n",
      "Ginger 3\n",
      "Jeff 3\n",
      "Oprah 3\n",
      "Irene 3\n",
      "Peter 3\n",
      "Kathy 3\n",
      "Norm 4\n",
      "Sarah 4\n",
      "Vince 4\n",
      "Xanthia 4\n",
      "Tom 4\n",
      "Wanda 4\n",
      "Queen 4\n",
      "Yaakov 5\n"
     ]
    }
   ],
   "source": [
    "print_tree_breath_first(root, tree)"
   ]
  },
  {
   "cell_type": "markdown",
   "metadata": {},
   "source": [
    "## Question 4: n queens problem\n",
    "Backtracking is the technique of recursively exploring the tree that contains all the possible solutions to a problem. Choose a systematic way to explore all the possible cases. This approach should reflect a rooted tree, and the backtracking approach is a depth-first search of the rooted tree. Whenever the search has found a solution or determined that there are no further solutions on the branches below the current vertex, backtrack to the preceeding vertex. \n",
    "\n",
    "A classic example of a problem that can be easily solved with this approach is the n queens problem.  This problem is to determine all the possible ways to place n nonattacking queens on an n-by-n chess board. The following code provides two helpful routines for this problem and illustrates one of the solutions for the 4 queens problem."
   ]
  },
  {
   "cell_type": "code",
   "execution_count": 18,
   "metadata": {},
   "outputs": [
    {
     "name": "stdout",
     "output_type": "stream",
     "text": [
      "[[0. 0. 0. 0.]\n",
      " [0. 0. 0. 0.]\n",
      " [0. 0. 0. 0.]\n",
      " [0. 0. 0. 0.]]\n",
      ".\n",
      ".\n",
      "Q\n",
      ".\n",
      "\n",
      "Q\n",
      ".\n",
      ".\n",
      ".\n",
      "\n",
      ".\n",
      ".\n",
      ".\n",
      "Q\n",
      "\n",
      ".\n",
      "Q\n",
      ".\n",
      ".\n",
      "\n",
      "\n"
     ]
    }
   ],
   "source": [
    "import numpy as np\n",
    "import copy\n",
    "\n",
    "def build_chessboard(N):\n",
    "    chessboard = np.zeros((N,N))\n",
    "    return chessboard\n",
    "\n",
    "def print_chessboard(chessboard):\n",
    "    N = len(chessboard)\n",
    "    for r in range(N):\n",
    "        for c in range(N):\n",
    "            if chessboard[r,c] == 1:\n",
    "                print ('Q'),\n",
    "            else:\n",
    "                print ('.'),\n",
    "        print ()\n",
    "    print ()\n",
    "\n",
    "# generate an empty 4x4 chessboard:\n",
    "chessboard = build_chessboard(4)\n",
    "print (chessboard)\n",
    "\n",
    "# Place 4 non-attacking queens on this board\n",
    "chessboard[1,0] = 1\n",
    "chessboard[3,1] = 1\n",
    "chessboard[0,2] = 1\n",
    "chessboard[2,3] = 1\n",
    "\n",
    "# Pretty print the resulting board\n",
    "print_chessboard(chessboard)"
   ]
  },
  {
   "cell_type": "markdown",
   "metadata": {},
   "source": [
    "Complete the following code to solve the n queens problem by returning the total number of solutions while printing only the first five solutions."
   ]
  },
  {
   "cell_type": "code",
   "execution_count": 19,
   "metadata": {},
   "outputs": [
    {
     "name": "stdout",
     "output_type": "stream",
     "text": [
      "Q\n",
      ".\n",
      ".\n",
      ".\n",
      ".\n",
      "\n",
      ".\n",
      ".\n",
      ".\n",
      "Q\n",
      ".\n",
      "\n",
      ".\n",
      "Q\n",
      ".\n",
      ".\n",
      ".\n",
      "\n",
      ".\n",
      ".\n",
      ".\n",
      ".\n",
      "Q\n",
      "\n",
      ".\n",
      ".\n",
      "Q\n",
      ".\n",
      ".\n",
      "\n",
      "\n",
      "Q\n",
      ".\n",
      ".\n",
      ".\n",
      ".\n",
      "\n",
      ".\n",
      ".\n",
      "Q\n",
      ".\n",
      ".\n",
      "\n",
      ".\n",
      ".\n",
      ".\n",
      ".\n",
      "Q\n",
      "\n",
      ".\n",
      "Q\n",
      ".\n",
      ".\n",
      ".\n",
      "\n",
      ".\n",
      ".\n",
      ".\n",
      "Q\n",
      ".\n",
      "\n",
      "\n",
      ".\n",
      ".\n",
      "Q\n",
      ".\n",
      ".\n",
      "\n",
      "Q\n",
      ".\n",
      ".\n",
      ".\n",
      ".\n",
      "\n",
      ".\n",
      ".\n",
      ".\n",
      "Q\n",
      ".\n",
      "\n",
      ".\n",
      "Q\n",
      ".\n",
      ".\n",
      ".\n",
      "\n",
      ".\n",
      ".\n",
      ".\n",
      ".\n",
      "Q\n",
      "\n",
      "\n",
      ".\n",
      ".\n",
      ".\n",
      "Q\n",
      ".\n",
      "\n",
      "Q\n",
      ".\n",
      ".\n",
      ".\n",
      ".\n",
      "\n",
      ".\n",
      ".\n",
      "Q\n",
      ".\n",
      ".\n",
      "\n",
      ".\n",
      ".\n",
      ".\n",
      ".\n",
      "Q\n",
      "\n",
      ".\n",
      "Q\n",
      ".\n",
      ".\n",
      ".\n",
      "\n",
      "\n",
      ".\n",
      "Q\n",
      ".\n",
      ".\n",
      ".\n",
      "\n",
      ".\n",
      ".\n",
      ".\n",
      "Q\n",
      ".\n",
      "\n",
      "Q\n",
      ".\n",
      ".\n",
      ".\n",
      ".\n",
      "\n",
      ".\n",
      ".\n",
      "Q\n",
      ".\n",
      ".\n",
      "\n",
      ".\n",
      ".\n",
      ".\n",
      ".\n",
      "Q\n",
      "\n",
      "\n",
      "solutions:  10\n"
     ]
    }
   ],
   "source": [
    "def n_queens(chessboard, col=0, count=0):\n",
    "    \"\"\" given a partially filled <chessboard>, try to place a queen in column <col> and recursively fill the board.\n",
    "    Finally return the number of solutions (added to <count>)\"\"\"\n",
    "    N = len(chessboard)\n",
    "    if col == N:\n",
    "        if count < 5:\n",
    "            print_chessboard(chessboard)\n",
    "        return count+1\n",
    "    \n",
    "    # Examine all available squares in column <col> (value is 0), place the queen, and \n",
    "    # mark all squares under attack by that queen (use anything except 0 or 1).\n",
    "    # Note: you can make a copy of a chessboard using chessboard.copy()\n",
    "    #\n",
    "    \n",
    "    \n",
    "    for i in range(N):\n",
    "        if chessboard[i,col]!= 3:\n",
    "            cb = chessboard.copy()\n",
    "            cb[i,col] = 1\n",
    "            j,l = copy.copy(i), copy.copy(col)\n",
    "            k = 1\n",
    "            while l!= N-1:\n",
    "                l+=k\n",
    "                cb[j,l] = 3\n",
    "            j,l = copy.copy(i), copy.copy(col)\n",
    "            while j!=0 and l!=N-1:\n",
    "                j-=k\n",
    "                l+=k\n",
    "                cb[j,l] = 3\n",
    "            j,l = copy.copy(i), copy.copy(col)\n",
    "            while j!=N-1 and l!=N-1:\n",
    "                j+=k\n",
    "                l+=k\n",
    "                cb[j,l] = 3\n",
    "            count = n_queens(cb,col+1,count)\n",
    "    \n",
    "    \n",
    "    \n",
    "    \n",
    "    \n",
    "    #count = n_queens(newboard,col+1,count)\n",
    "    return count\n",
    "\n",
    "chessboard = build_chessboard(5)\n",
    "count = n_queens(chessboard)\n",
    "print (\"solutions: \", count)"
   ]
  },
  {
   "cell_type": "code",
   "execution_count": 20,
   "metadata": {},
   "outputs": [
    {
     "name": "stdout",
     "output_type": "stream",
     "text": [
      "Q\n",
      "\n",
      "\n",
      "solutions:  1\n",
      "solutions:  0\n",
      "solutions:  0\n",
      ".\n",
      ".\n",
      "Q\n",
      ".\n",
      "\n",
      "Q\n",
      ".\n",
      ".\n",
      ".\n",
      "\n",
      ".\n",
      ".\n",
      ".\n",
      "Q\n",
      "\n",
      ".\n",
      "Q\n",
      ".\n",
      ".\n",
      "\n",
      "\n",
      ".\n",
      "Q\n",
      ".\n",
      ".\n",
      "\n",
      ".\n",
      ".\n",
      ".\n",
      "Q\n",
      "\n",
      "Q\n",
      ".\n",
      ".\n",
      ".\n",
      "\n",
      ".\n",
      ".\n",
      "Q\n",
      ".\n",
      "\n",
      "\n",
      "solutions:  2\n"
     ]
    }
   ],
   "source": [
    "chessboard = build_chessboard(1)\n",
    "count = n_queens(chessboard)\n",
    "print (\"solutions: \", count)\n",
    "chessboard = build_chessboard(2)\n",
    "count = n_queens(chessboard)\n",
    "print (\"solutions: \", count)\n",
    "chessboard = build_chessboard(3)\n",
    "count = n_queens(chessboard)\n",
    "print (\"solutions: \", count)\n",
    "chessboard = build_chessboard(4)\n",
    "count = n_queens(chessboard)\n",
    "print (\"solutions: \", count)"
   ]
  },
  {
   "cell_type": "code",
   "execution_count": 21,
   "metadata": {},
   "outputs": [
    {
     "name": "stdout",
     "output_type": "stream",
     "text": [
      ".\n",
      ".\n",
      ".\n",
      ".\n",
      "\n",
      ".\n",
      ".\n",
      ".\n",
      ".\n",
      "\n",
      ".\n",
      ".\n",
      ".\n",
      ".\n",
      "\n",
      ".\n",
      ".\n",
      ".\n",
      ".\n",
      "\n",
      "\n",
      "Q\n",
      ".\n",
      ".\n",
      ".\n",
      "\n",
      ".\n",
      ".\n",
      ".\n",
      ".\n",
      "\n",
      ".\n",
      ".\n",
      ".\n",
      ".\n",
      "\n",
      ".\n",
      ".\n",
      ".\n",
      ".\n",
      "\n",
      "\n",
      ".\n",
      ".\n",
      ".\n",
      ".\n",
      "\n",
      ".\n",
      ".\n",
      ".\n",
      ".\n",
      "\n",
      ".\n",
      ".\n",
      ".\n",
      ".\n",
      "\n",
      ".\n",
      ".\n",
      ".\n",
      ".\n",
      "\n",
      "\n"
     ]
    }
   ],
   "source": [
    "def test(cb):\n",
    "    cb[0,0]=1\n",
    "    print_chessboard(cb)\n",
    "    \n",
    "chessboard = build_chessboard(4)\n",
    "print_chessboard(chessboard)\n",
    "test(chessboard.copy())# try chessboard.copy() instead\n",
    "print_chessboard(chessboard)  # oooops!"
   ]
  },
  {
   "cell_type": "code",
   "execution_count": 26,
   "metadata": {},
   "outputs": [
    {
     "name": "stdout",
     "output_type": "stream",
     "text": [
      "before: a= [2, 4, [6]]\n",
      "after: a= [2, 4, [7]]  b= [3, 4, [7]]  (using copy)\n",
      "after: a= [2, 4, [6]]  b= [3, 4, [7]]  (using deepcopy)\n"
     ]
    }
   ],
   "source": [
    "import copy\n",
    "\n",
    "# copy makes a copy of the outer-most object, but keeps the same references to the inner\n",
    "# object.\n",
    "a=[2,4,[6]]\n",
    "print (\"before: a=\", a)\n",
    "\n",
    "b=copy.copy(a)\n",
    "b[0]+=1\n",
    "b[2][0]+=1\n",
    "\n",
    "print (\"after: a=\",a,\" b=\", b, \" (using copy)\")\n",
    "\n",
    "# deepcopy also makes a copy of each contained element (recursively)\n",
    "a=[2,4,[6]]\n",
    "b=copy.deepcopy(a)\n",
    "b[0]+=1\n",
    "b[2][0]+=1\n",
    "print (\"after: a=\",a,\" b=\", b, \" (using deepcopy)\")\n"
   ]
  },
  {
   "cell_type": "code",
   "execution_count": null,
   "metadata": {},
   "outputs": [],
   "source": []
  }
 ],
 "metadata": {
  "kernelspec": {
   "display_name": "Python 3 (ipykernel)",
   "language": "python",
   "name": "python3"
  },
  "language_info": {
   "codemirror_mode": {
    "name": "ipython",
    "version": 3
   },
   "file_extension": ".py",
   "mimetype": "text/x-python",
   "name": "python",
   "nbconvert_exporter": "python",
   "pygments_lexer": "ipython3",
   "version": "3.10.6"
  },
  "name": "HW05.ipynb"
 },
 "nbformat": 4,
 "nbformat_minor": 1
}
