{
 "cells": [
  {
   "cell_type": "markdown",
   "metadata": {},
   "source": [
    "# Homework 06\n",
    "\n",
    "Please fill in: Alan Hahn"
   ]
  },
  {
   "cell_type": "markdown",
   "metadata": {},
   "source": [
    "## Question 1\n",
    "Implement selection sort:"
   ]
  },
  {
   "cell_type": "code",
   "execution_count": 3,
   "metadata": {},
   "outputs": [],
   "source": [
    "def selection_sort(arr):\n",
    "    \"\"\" sort the given array in-place (by swapping elements) using selection sort and return it\"\"\"\n",
    "    n = len(arr)\n",
    "    for i in range(0, n-1):\n",
    "        midx = i\n",
    "        for l in range(i+1,n):           #find index midx of smallest element in sub-array\n",
    "            if arr[midx]>arr[l]:         \n",
    "                midx = l\n",
    "        arr[i],arr[midx] = arr[midx], arr[i]     #swap arr[i] and arr[midx]\n",
    "        \n",
    "    return arr"
   ]
  },
  {
   "cell_type": "code",
   "execution_count": 4,
   "metadata": {},
   "outputs": [
    {
     "name": "stdout",
     "output_type": "stream",
     "text": [
      "[5]  -> \n",
      "[5]\n",
      "[1, 7, 2, 8, 7]  -> \n",
      "[1, 2, 7, 7, 8]\n",
      "[4, 3, 2, 1]  -> \n",
      "[1, 2, 3, 4]\n",
      "[1, 2, 3, 4]  -> \n",
      "[1, 2, 3, 4]\n",
      "[]  -> \n",
      "[]\n"
     ]
    }
   ],
   "source": [
    "# check your implementation:\n",
    "a=[5]\n",
    "print (a, \" -> \")\n",
    "print (selection_sort(a))\n",
    "\n",
    "a=[1,7,2,8,7]\n",
    "print (a, \" -> \")\n",
    "print (selection_sort(a))\n",
    "\n",
    "a=[4,3,2,1]\n",
    "print (a, \" -> \")\n",
    "print (selection_sort(a))\n",
    "\n",
    "a=[1,2,3,4]\n",
    "print (a, \" -> \")\n",
    "print (selection_sort(a))\n",
    "\n",
    "a=[]\n",
    "print (a, \" -> \")\n",
    "print (selection_sort(a))"
   ]
  },
  {
   "cell_type": "markdown",
   "metadata": {},
   "source": [
    "## Question 2\n",
    "finish the implementation of merge sort."
   ]
  },
  {
   "cell_type": "code",
   "execution_count": 5,
   "metadata": {},
   "outputs": [],
   "source": [
    "def merge(left, right):\n",
    "    # merge the two arrays into a sorted array assuming\n",
    "    # left and right are already sorted individually\n",
    "    lt = len(left)+len(right)\n",
    "    i,j = 0,0\n",
    "    result = []\n",
    "    while i+j<lt:\n",
    "        if j == len(right) or (i<len(left) and left[i]<right[j]):\n",
    "            result.append(left[i])\n",
    "            i+=1\n",
    "        else:\n",
    "            result.append(right[j])\n",
    "            j+=1\n",
    "    return result\n",
    " \n",
    "    \n",
    "def merge_sort(arr):\n",
    "    # sort recursively using merge-sort\n",
    "    if len(arr)==0:\n",
    "        return []\n",
    "    if len(arr) == 1:\n",
    "        return(arr)\n",
    "    \n",
    "    mid = len(arr)//2\n",
    "    S1 = arr[0:mid]\n",
    "    S2 = arr[mid:len(arr)]\n",
    "    \n",
    "    result = merge(merge_sort(S1),merge_sort(S2))\n",
    "    return result"
   ]
  },
  {
   "cell_type": "code",
   "execution_count": 6,
   "metadata": {},
   "outputs": [
    {
     "name": "stdout",
     "output_type": "stream",
     "text": [
      "[5]  -> \n",
      "[5]\n",
      "[1, 7, 2, 8, 7]  -> \n",
      "[1, 2, 7, 7, 8]\n",
      "[4, 3, 2, 1]  -> \n",
      "[1, 2, 3, 4]\n",
      "[1, 2, 3, 4]  -> \n",
      "[1, 2, 3, 4]\n",
      "[]  -> \n",
      "[]\n"
     ]
    }
   ],
   "source": [
    "# check your implementation:\n",
    "a=[5]\n",
    "print (a, \" -> \")\n",
    "print (merge_sort(a))\n",
    "\n",
    "a=[1,7,2,8,7]\n",
    "print (a, \" -> \")\n",
    "print (merge_sort(a))\n",
    "\n",
    "a=[4,3,2,1]\n",
    "print (a, \" -> \")\n",
    "print (merge_sort(a))\n",
    "\n",
    "a=[1,2,3,4]\n",
    "print (a, \" -> \")\n",
    "print (merge_sort(a))\n",
    "\n",
    "a=[]\n",
    "print (a, \" -> \")\n",
    "print (merge_sort(a))"
   ]
  },
  {
   "cell_type": "code",
   "execution_count": null,
   "metadata": {},
   "outputs": [],
   "source": []
  }
 ],
 "metadata": {
  "kernelspec": {
   "display_name": "Python 3 (ipykernel)",
   "language": "python",
   "name": "python3"
  },
  "language_info": {
   "codemirror_mode": {
    "name": "ipython",
    "version": 3
   },
   "file_extension": ".py",
   "mimetype": "text/x-python",
   "name": "python",
   "nbconvert_exporter": "python",
   "pygments_lexer": "ipython3",
   "version": "3.10.6"
  },
  "name": "HW03.ipynb"
 },
 "nbformat": 4,
 "nbformat_minor": 1
}
