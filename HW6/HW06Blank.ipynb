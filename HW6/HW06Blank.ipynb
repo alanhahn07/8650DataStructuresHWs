{
 "cells": [
  {
   "cell_type": "markdown",
   "metadata": {},
   "source": [
    "# Homework 06\n",
    "\n",
    "Please fill in: YOUR_NAME_HERE"
   ]
  },
  {
   "cell_type": "markdown",
   "metadata": {},
   "source": [
    "## Question 1\n",
    "Implement selection sort:"
   ]
  },
  {
   "cell_type": "code",
   "execution_count": 39,
   "metadata": {},
   "outputs": [],
   "source": [
    "def selection_sort(arr):\n",
    "    \"\"\" sort the given array in-place (by swapping elements) using selection sort and return it\"\"\"\n",
    "    n = len(arr)\n",
    "    for i in range(0, n-1):\n",
    "        midx = i\n",
    "        for l in range(i+1,n):\n",
    "            if arr[midx]>arr[l]:\n",
    "                midx = l\n",
    "        arr[i],arr[midx] = arr[midx], arr[i]\n",
    "        \n",
    "    return arr"
   ]
  },
  {
   "cell_type": "code",
   "execution_count": 40,
   "metadata": {},
   "outputs": [
    {
     "name": "stdout",
     "output_type": "stream",
     "text": [
      "([5], ' -> ')\n",
      "[5]\n",
      "([1, 7, 2, 8, 7], ' -> ')\n",
      "[1, 2, 7, 7, 8]\n",
      "([4, 3, 2, 1], ' -> ')\n",
      "[1, 2, 3, 4]\n",
      "([1, 2, 3, 4], ' -> ')\n",
      "[1, 2, 3, 4]\n",
      "([], ' -> ')\n",
      "[]\n"
     ]
    }
   ],
   "source": [
    "# check your implementation:\n",
    "a=[5]\n",
    "print (a, \" -> \")\n",
    "print (selection_sort(a))\n",
    "\n",
    "a=[1,7,2,8,7]\n",
    "print (a, \" -> \")\n",
    "print (selection_sort(a))\n",
    "\n",
    "a=[4,3,2,1]\n",
    "print (a, \" -> \")\n",
    "print (selection_sort(a))\n",
    "\n",
    "a=[1,2,3,4]\n",
    "print (a,\" -> \")\n",
    "print (selection_sort(a))\n",
    "\n",
    "a=[]\n",
    "print (a, \" -> \")\n",
    "print (selection_sort(a))"
   ]
  },
  {
   "cell_type": "markdown",
   "metadata": {},
   "source": [
    "## Question 2\n",
    "finish the implementation of merge sort."
   ]
  },
  {
   "cell_type": "code",
   "execution_count": null,
   "metadata": {},
   "outputs": [],
   "source": [
    "def merge(left, right):\n",
    "    # merge the two arrays into a sorted array assuming\n",
    "    # left and right are already sorted individually\n",
    "    result = []\n",
    "    while ???:\n",
    "        if ???:\n",
    "            result.append(???)\n",
    "        else:\n",
    "            ???\n",
    "    return result\n",
    "                \n",
    "def merge_sort(arr):\n",
    "    # sort recursively using merge-sort\n",
    "    if len(arr)==0:\n",
    "        return []\n",
    "    \n",
    "    mid = len(arr)//2\n",
    "    \n",
    "    result = merge(???,???)\n",
    "    return result"
   ]
  },
  {
   "cell_type": "code",
   "execution_count": null,
   "metadata": {},
   "outputs": [],
   "source": [
    "# check your implementation:\n",
    "a=[5]\n",
    "print (a, end=\" -> \")\n",
    "print (merge_sort(a))\n",
    "\n",
    "a=[1,7,2,8,7]\n",
    "print (a, end=\" -> \")\n",
    "print (merge_sort(a))\n",
    "\n",
    "a=[4,3,2,1]\n",
    "print (a, end=\" -> \")\n",
    "print (merge_sort(a))\n",
    "\n",
    "a=[1,2,3,4]\n",
    "print (a, end=\" -> \")\n",
    "print (merge_sort(a))\n",
    "\n",
    "a=[]\n",
    "print (a, end=\" -> \")\n",
    "print (merge_sort(a))"
   ]
  }
 ],
 "metadata": {
  "kernelspec": {
   "display_name": "Python 3 (ipykernel)",
   "language": "python",
   "name": "python3"
  },
  "language_info": {
   "codemirror_mode": {
    "name": "ipython",
    "version": 3
   },
   "file_extension": ".py",
   "mimetype": "text/x-python",
   "name": "python",
   "nbconvert_exporter": "python",
   "pygments_lexer": "ipython3",
   "version": "3.10.6"
  },
  "name": "HW03.ipynb"
 },
 "nbformat": 4,
 "nbformat_minor": 1
}
